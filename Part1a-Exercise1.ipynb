{
 "cells": [
  {
   "cell_type": "markdown",
   "metadata": {},
   "source": [
    "# Exercise 1: Python basics\n",
    "\n",
    "Python is a popular programming language that is widely used in research computing and for commercial software development.\n",
    "\n",
    "Python is easy to learn, flexible, and has a huge ecosystem of add-ons (\"extensions\" or \"packages\") that extend its core functionality.\n",
    "This allows Python to be used for anything from data analysis and visualisation to artificial intelligence (AI), controlling hardware and writing 3D games.\n",
    "\n",
    "Although Python code looks different to Matlab, many of the core concepts should be familiar to you.\n",
    "(This applies to most programming languages - they all have their own way of doing things, but once you become practiced at breaking down a problem into smaller steps that can be implemented in code, learning a new language is usually quite straightforward.)\n",
    "\n",
    "In this part of the expeirment, you will work through three exercises designed to give you some experience of Python.\n",
    "In the next part, you will then use some of these skills to build and program a DIY photometer based on a Raspberry Pi microcomputer.\n",
    "\n",
    "This exercise briefly introduces the main language constructs needed to write functional Python programs.\n",
    "Exercise 2 builds on this by using the NumPy extension package for scientific computing, revisiting the H&uuml;ckel theory introduced in CHEM20212.\n",
    "Finally, Exercise 3 introduces the Matplotlib package for plotting and data visualisation and looks at how to use the library to prepare publication-quality graphics.\n",
    "\n",
    "These exercises do not form part of the assessment, and you are not expected to become a Python expert in one day - the aim is to give you a flavour of how the language works so that you can follow the code for the photometer that will be provided for you in the next part of the experiment.\n",
    "Take your time working through the exercises, and ask the GTAs for as much help as you need.\n",
    "*It is not necessary to complete all three exercises if you do not have time.*"
   ]
  },
  {
   "cell_type": "markdown",
   "metadata": {},
   "source": [
    "## a. Getting started"
   ]
  },
  {
   "cell_type": "markdown",
   "metadata": {},
   "source": [
    "### i. Jupyter notebooks\n",
    "\n",
    "Jupyter notebooks are a series of \"cells\" containing either text, like this one, or Python code, like the cell below.\n",
    "\n",
    "Code cells are marked with `In [...]` in the margin.\n",
    "To run the code in a code cell, click on the cell to activate it, then click the `Run` button in the toolbar at the top.\n",
    "The output (if any) is displayed below the cell.\n",
    "\n",
    "The code in the next cell shows how the standard \"Hello, World!\" program is written in Python - try running it.\n",
    "\n",
    "(If you double-click on a text cell, you will see the text in a format called \"Markdown\" - you can restore the formatted text by clicking \"Run\".)"
   ]
  },
  {
   "cell_type": "code",
   "execution_count": null,
   "metadata": {},
   "outputs": [],
   "source": [
    "print(\"Hello, World!\")"
   ]
  },
  {
   "cell_type": "markdown",
   "metadata": {},
   "source": [
    "### ii. Printing\n",
    "\n",
    "The `print()` function, as its name suggests, prints text to the screen.\n",
    "In Jupyter notebooks, the output of `print()` statements appears below code cells when they are run.\n",
    "\n",
    "`print()` is a built-in Python function that takes one or more arguments in parentheses.\n",
    "The arguments are printed in sequence with a space between each one.\n",
    "\n",
    "After printing all its arguments, `print()` also prints a newline, so calling `print()` with a blank argument - i.e. `print(\"\")` - is an easy way to add blank lines between printed output.\n",
    "\n",
    "The arguments to `print()` do not have to be text - it will convert anything it is passed to a text representation.\n",
    "Controlling how things like decimal numbers are printed will be covered later in this notebook."
   ]
  },
  {
   "cell_type": "code",
   "execution_count": null,
   "metadata": {},
   "outputs": [],
   "source": [
    "print(\"Hello\", \"World\", \"!\")\n",
    "print(\"\")\n",
    "\n",
    "print(\"This is code cell number\", 2, \"of many\")"
   ]
  },
  {
   "cell_type": "markdown",
   "metadata": {},
   "source": [
    "(It is worth noting that in the older Python 2 the `print` statement did not require parentheses, so you will see code examples where they are not used - parentheses are required in Python 3, and leaving them out is an error.)"
   ]
  },
  {
   "cell_type": "markdown",
   "metadata": {},
   "source": [
    "### iii. Comments\n",
    "\n",
    "Comments in Python are prefixed with the `#` character - the Python interpreter that runs the code ignores anything after these.\n",
    "Adding comments is a good habit to get into, as they make it easier to follow what a piece of code does if you share it with someone else, or if you stop working on it and come back to it later."
   ]
  },
  {
   "cell_type": "code",
   "execution_count": null,
   "metadata": {},
   "outputs": [],
   "source": [
    "# Prints \"Hello, World!\"\n",
    "\n",
    "print(\"Hello, World!\")"
   ]
  },
  {
   "cell_type": "markdown",
   "metadata": {},
   "source": [
    "### iv. Errors\n",
    "\n",
    "If you make a mistake in a code cell, when you execute it you will see an error message (called a \"Traceback\" in Python).\n",
    "For example, in the cell below the closing parenthesis (bracket) has been left out of the print statement."
   ]
  },
  {
   "cell_type": "code",
   "execution_count": null,
   "metadata": {},
   "outputs": [],
   "source": [
    "print(\"Hello, World!\""
   ]
  },
  {
   "cell_type": "markdown",
   "metadata": {},
   "source": [
    "As you can see, in most cases the error messages are quite helpful for diagnosing and fixing mistakes.\n",
    "The line of code that caused the error is shown with a caret (^) symbol pointing to where the error is.\n",
    "The message states that there is a syntax error, and the \"unexpected EOF while parsing\" tells us that the interpreter reached the end of the file (= the code cell) while expecting to find additional code (in this case the rest of the `print()` statement)."
   ]
  },
  {
   "cell_type": "markdown",
   "metadata": {},
   "source": [
    "## b. Variables, assigment and operators\n",
    "\n",
    "As in Matlab, data in Python scripts is stored and manupulated in variables.\n",
    "Python has a number of primitive data types:\n",
    "\n",
    "* integers (`int`s) store integer values (whole numbers)\n",
    "* `float`s store decimal numbers\n",
    "* character `string`s store text\n",
    "* Boolean (`bool`) values store the constants `True` or `False`\n",
    "* `None` is a special value that represents nothing and is equivalent to the `null` constant found in many other programming languages\n",
    "\n",
    "(For completeness, the Python type system is more complex than this, but the language design hides a lot of this, and this simple picture is sufficient to write even fairly complicated scripts.)"
   ]
  },
  {
   "cell_type": "markdown",
   "metadata": {},
   "source": [
    "### i. Numeric types: `int`s and `float`s\n",
    "\n",
    "The Python interpreter works out the best data type for variables and deals with converting between numeric types when required."
   ]
  },
  {
   "cell_type": "code",
   "execution_count": null,
   "metadata": {},
   "outputs": [],
   "source": [
    "x = 10     # x is an integer\n",
    "y = 1.5    # y is a float\n",
    "\n",
    "z = x + 5    # The result of adding two integers is another integer\n",
    "w = x + y    # The result of adding an integer and a float is a float\n",
    "\n",
    "print(\"z is:\", z)\n",
    "print(\"w is:\", w)"
   ]
  },
  {
   "cell_type": "markdown",
   "metadata": {},
   "source": [
    "Python automatically creates whole numbers as `int` types and decimal values as `float` types.\n",
    "When operations are performed with a mix of `int` and `float` types, it selects an appropriate type for the result.\n",
    "\n",
    "As for most languages, Python supports a set of standard mathematical operations:\n",
    "\n",
    "* Addition: `+`\n",
    "* Subtraction: `-`\n",
    "* Multiplication: `*`\n",
    "* Division: `/`\n",
    "* Power: `**`\n",
    "* Quotient (\"floor division\"): `//`\n",
    "* Modulus (\"division remainder\"): `%`"
   ]
  },
  {
   "cell_type": "code",
   "execution_count": null,
   "metadata": {},
   "outputs": [],
   "source": [
    "x = 6\n",
    "\n",
    "# +, -, * and / are standard in most programming languages.\n",
    "\n",
    "print(\"Addition:       x + 1  =\", x + 1 )\n",
    "print(\"Subtraction:    x - 3  =\", x - 3 )\n",
    "print(\"Multiplication: x * 4  =\", x * 4 )\n",
    "print(\"Division:       x / 5  =\", x / 5 )\n",
    "print(\"\")\n",
    "\n",
    "# Some languages also have the ** operator.\n",
    "\n",
    "print(\"Power:          x ** 2 =\", x ** 2)\n",
    "print(\"\")\n",
    "\n",
    "# Most languages also have the // and % operators, but they are less commonly used.\n",
    "\n",
    "print(\"Quotient:       x // 4 =\", x // 4)\n",
    "print(\"Modulus:        x  % 4 =\", x % 4 )"
   ]
  },
  {
   "cell_type": "markdown",
   "metadata": {},
   "source": [
    "The behaviour of most of these operators should not be surprising; however, the behaviour of the division operator (`/`) differs from most other programming languages: the result of dividing two `int` values is a `float`.\n",
    "\n",
    "This gives an intuitive result if the division is non integer (as in the example above), but integer division in most other programming languages behaves like the quotient (`//`) operator, and this often confuses programmers who come to Python from another language.\n",
    "\n",
    "(It is also worth noting that this is another area where Python 3 - which we are using - differs from Python 2.)"
   ]
  },
  {
   "cell_type": "markdown",
   "metadata": {},
   "source": [
    "### ii. Character `string`s\n",
    "\n",
    "Python strings can be declared between single or double quotes:"
   ]
  },
  {
   "cell_type": "code",
   "execution_count": null,
   "metadata": {},
   "outputs": [],
   "source": [
    "name = 'Jonathan'\n",
    "message = \"Hello\""
   ]
  },
  {
   "cell_type": "markdown",
   "metadata": {},
   "source": [
    "Strings support the `+` (concatenation) and `*` (repetition) operators:"
   ]
  },
  {
   "cell_type": "code",
   "execution_count": null,
   "metadata": {},
   "outputs": [],
   "source": [
    "print(message + \", \" + name + \"!\")"
   ]
  },
  {
   "cell_type": "markdown",
   "metadata": {},
   "source": [
    "Note that, as shown in the two cells above, variables are propagated between code cells - we used the `name` and `message` variables defined in one cell in the `print()` statement in another.\n",
    "\n",
    "**WARNING:**\n",
    "*If you change a variable in one cell, other cells are not updated automatically - they will need to be re-run to pick up the changes.*\n",
    "*If you go back and change something in one cell, it is usually safest to re-run all the code cells after it just to make sure everything gets updated.*"
   ]
  },
  {
   "cell_type": "code",
   "execution_count": null,
   "metadata": {},
   "outputs": [],
   "source": [
    "print(\"Spam, \" * 5 + \"Eggs and Spam!\")"
   ]
  },
  {
   "cell_type": "markdown",
   "metadata": {},
   "source": [
    "Many languages have an operator for string concatenation, but comparatively fewer have an equivalent of the repetition operator; however, this is rarely useful in practice."
   ]
  },
  {
   "cell_type": "markdown",
   "metadata": {},
   "source": [
    "### iii. Type conversion\n",
    "\n",
    "As shown previously, mathematical operators on `int` and `float` types perform type conversions automatically when required.\n",
    "Explicit conversions can also be performed using the `int()`, `float()` and `str()` functions.\n",
    "\n",
    "The most usual common explicit conversion is from `string` to `int` or `float`:"
   ]
  },
  {
   "cell_type": "code",
   "execution_count": null,
   "metadata": {},
   "outputs": [],
   "source": [
    "x = int(\"42\")        # x is an int\n",
    "y = float(\"3.14\")    # y is a float\n",
    "\n",
    "print(\"x + y is:\", x + y)"
   ]
  },
  {
   "cell_type": "markdown",
   "metadata": {},
   "source": [
    "It is possible to convert `float`s to `int`s, but be aware that `int()` always rounds *down*:"
   ]
  },
  {
   "cell_type": "code",
   "execution_count": null,
   "metadata": {},
   "outputs": [],
   "source": [
    "x = 3.14\n",
    "y = 5.6\n",
    "\n",
    "print(\"int(x) =\", int(x))\n",
    "print(\"int(y) =\", int(y))"
   ]
  },
  {
   "cell_type": "markdown",
   "metadata": {},
   "source": [
    "Nonsensical conversions will produce an error:"
   ]
  },
  {
   "cell_type": "code",
   "execution_count": null,
   "metadata": {},
   "outputs": [],
   "source": [
    "int(\"3.14\")"
   ]
  },
  {
   "cell_type": "code",
   "execution_count": null,
   "metadata": {},
   "outputs": [],
   "source": [
    "float(\"nonsense\")"
   ]
  },
  {
   "cell_type": "markdown",
   "metadata": {},
   "source": [
    "### iv. String formatting\n",
    "\n",
    "Unlike with `int` and `float` types, `string` values are not automatically converted when required - for example this doesn't work:"
   ]
  },
  {
   "cell_type": "code",
   "execution_count": null,
   "metadata": {},
   "outputs": [],
   "source": [
    "x = 42\n",
    "\n",
    "message = \"x is: \" + x\n",
    "\n",
    "print(message)"
   ]
  },
  {
   "cell_type": "markdown",
   "metadata": {},
   "source": [
    "Explicit conversion does work, and you will see it used in many scripts:"
   ]
  },
  {
   "cell_type": "code",
   "execution_count": null,
   "metadata": {},
   "outputs": [],
   "source": [
    "message = \"x is: \" + str(x)\n",
    "\n",
    "print(message)"
   ]
  },
  {
   "cell_type": "markdown",
   "metadata": {},
   "source": [
    "Note that this example is different to the multi-argument `print()` function that we used in some of the above code cells - if we pass a non-string variable to `print()` the function attempts to automatically convert it to a suitable string representation.\n",
    "This *does* work:"
   ]
  },
  {
   "cell_type": "code",
   "execution_count": null,
   "metadata": {},
   "outputs": [],
   "source": [
    "print(\"x is:\", x)"
   ]
  },
  {
   "cell_type": "markdown",
   "metadata": {},
   "source": [
    "When printing numeric values in particular, we might want to control the formatting.\n",
    "There are two ways to do this - the following illustrates the `string.format()` method that is standard in newer versions of Python."
   ]
  },
  {
   "cell_type": "code",
   "execution_count": null,
   "metadata": {},
   "outputs": [],
   "source": [
    "x = 2.0 / 3.0\n",
    "\n",
    "message_1 = \"Formatted 1: {0}\".format(x)\n",
    "message_2 = \"Formatted 2: {0:.2f}\".format(x)\n",
    "\n",
    "print(message_1)\n",
    "print(message_2)"
   ]
  },
  {
   "cell_type": "markdown",
   "metadata": {},
   "source": [
    "A string is written with numbered placeholders of the form `{<N>}`.\n",
    "The `.format()` method is then called with arguments that are inserted into the placeholders.\n",
    "\n",
    "In the first string `message_1`, Python simply inserts the string representation of the variable `x`.\n",
    "This is printed to a large number of decimal places, which is a bit unweildy.\n",
    "\n",
    "In the second string `message_2`, we use a placeholder with a modifier format code in the form `{<N>:<format_code>}`.\n",
    "The code `.2f` prints to two decimal places.\n",
    "\n",
    "The `format()` technique has a range of options for printing numerical values, and also has the ability to pad strings to a certain length, which is useful for printing tabular data, for example.\n",
    "\n",
    "Here are a few more examples using format codes:"
   ]
  },
  {
   "cell_type": "code",
   "execution_count": null,
   "metadata": {},
   "outputs": [],
   "source": [
    "big_int = 2 ** 32\n",
    "\n",
    "print(\"Default: {0}\".format(big_int))\n",
    "print(\"Formatted: {0:,}\".format(big_int))"
   ]
  },
  {
   "cell_type": "code",
   "execution_count": null,
   "metadata": {},
   "outputs": [],
   "source": [
    "# The radius of the earth is 6,371 km; the curcumference is 2 \\pi r = 2 * 3.14 * 6371.\n",
    "\n",
    "circ_earth = 2 * 3.14 * 6371\n",
    "\n",
    "print(\"Default: circ_earth = {0} km\".format(circ_earth))\n",
    "print(\"Formatted (1): circ_earth = {0:.0f} km\".format(circ_earth))\n",
    "print(\"Formatted (2): circ_earth = {0:,.0f} km\".format(circ_earth))\n",
    "print(\"Formatted (3): circ_earth = {0:.3e} km\".format(circ_earth))"
   ]
  },
  {
   "cell_type": "markdown",
   "metadata": {},
   "source": [
    "For printing large `int` values, the `,` modifier adds a comma separator that makes the values easier to read.\n",
    "\n",
    "For printing large `float` values there are various options.\n",
    "In the first example, we use a `.0f` modifier to round the value to the nearest whole number.\n",
    "In the second example, this code is combined with the `,` modifier to add a comma separator.\n",
    "In the last example, the `.3e` code is used to print the value in standard form (scientific notation).\n",
    "\n",
    "Also note that the formatting can be done directly in the `print()` statement; it is not necessary to create an intermediate variable, although for complicated strings with lots of arguments this can make code easier to read."
   ]
  },
  {
   "cell_type": "markdown",
   "metadata": {},
   "source": [
    "## c. Importing modules\n",
    "\n",
    "So far, we have used built-in functions that are always available.\n",
    "As noted in the introduction, Python has a large number of packages that can be imported into scripts to add additional functionality.\n",
    "Some of these are part of the standard library that ships with the Python language, whereas others can be installed separately, for example using a package manager such as [Anaconda](https://www.anaconda.com).\n",
    "\n",
    "Python libraries are organised into \"modules\" that can be imported into scripts using the `import` keyword.\n",
    "This allows functions and variables (constants) declared in the module to be accessed with `module.variable` or `module.function(<args>)`."
   ]
  },
  {
   "cell_type": "markdown",
   "metadata": {},
   "source": [
    "### i. An example: the `math` module\n",
    "\n",
    "As we have seen, Python supports several mathematical operations with operators.\n",
    "A wider range of mathematical functions such as sin(), cos(), ln(), *etc.* are implemented in the `math` module.\n",
    "\n",
    "As with most modules, there is a comprehensive online documentation: [https://docs.python.org/3/library/math.html](https://docs.python.org/3/library/math.html)."
   ]
  },
  {
   "cell_type": "code",
   "execution_count": null,
   "metadata": {},
   "outputs": [],
   "source": [
    "import math    # Imports the math module.\n",
    "\n",
    "x = math.pi / 2.0    # pi is a constant in the math module\n",
    "\n",
    "sin_x = math.sin(x)    # sin is a function in the math module\n",
    "cos_x = math.cos(x)    # So is cos\n",
    "\n",
    "print(\"x = {0:.3f}\".format(x))\n",
    "print(\"sin(x) = {0:.2f}\".format(sin_x))\n",
    "print(\"cos(x) = {0:.2f}\".format(cos_x))"
   ]
  },
  {
   "cell_type": "markdown",
   "metadata": {},
   "source": [
    "### ii. Exercise\n",
    "\n",
    "The roots of a general quadratic equation $ax^{2} + bx + c = 0$ are given by the formula:\n",
    "\n",
    "$x = \\frac{ -b \\pm \\sqrt{b^{2} - 4ac} }{ 2a }$\n",
    "\n",
    "Write some Python code to calculate the roots of the equation $y = 6x^{2} -11 x - 35$ and print them to three decimal places.\n",
    "\n",
    "(Hint 1: The `math` module has a `sqrt()` function.)\n",
    "\n",
    "(Hint 2: You can group mathematical operations using parentheses as you would on a scientific calculator.)"
   ]
  },
  {
   "cell_type": "code",
   "execution_count": null,
   "metadata": {},
   "outputs": [],
   "source": [
    "# Enter and test your code here."
   ]
  },
  {
   "cell_type": "markdown",
   "metadata": {},
   "source": [
    "## d. Flow control\n",
    "\n",
    "Python has several *flow control* constructs that can be used to make scripts to do different things depending on whether certain *conditions* are met during runtime, and to run the same sections of code with different variables.\n",
    "Using these constructs effectively allows more sophisticated scripts to be written with less code."
   ]
  },
  {
   "cell_type": "markdown",
   "metadata": {},
   "source": [
    "### i. The `if` ... `elif` ... `else` statement\n",
    "\n",
    "This statement allows scripts to follow different code paths depending on whether certain conditions are met."
   ]
  },
  {
   "cell_type": "code",
   "execution_count": null,
   "metadata": {},
   "outputs": [],
   "source": [
    "i = 42\n",
    "\n",
    "if i == 42:\n",
    "    print(\"The meaning of life, the universe and everything!\")"
   ]
  },
  {
   "cell_type": "markdown",
   "metadata": {},
   "source": [
    "The format of the statement is:\n",
    "\n",
    "```python\n",
    "if condition:\n",
    "    statement\n",
    "    ...\n",
    "```\n",
    "\n",
    "Note that the body of the `if` statement - the code that is run if the condition is met - is marked by indentation.\n",
    "There is no `end` keyword like in Matlab.\n",
    "\n",
    "You can use whatever indentation you like.\n",
    "The consensus is to use four spaces (i.e. _not_ a tab), but the language does not require this.\n",
    "(In most text editors, if you press the tab key it will default to four spaces, or intelligently continue the indentation that was used in previous lines.)\n",
    "\n",
    "This rigid formatting requirement (compared to many other languages) is often one of the most difficult things for newcomers to Python to get used to.\n",
    "The upside is that this forces Python code to be written clearly, which makes it easier to read.\n",
    "\n",
    "Code that uses inconsistent indentation causes an error:"
   ]
  },
  {
   "cell_type": "code",
   "execution_count": null,
   "metadata": {},
   "outputs": [],
   "source": [
    "if i == 42:\n",
    "  print(\"i = 42...\")\n",
    "    print(\"The meaning of life, the universe and everything!\")"
   ]
  },
  {
   "cell_type": "markdown",
   "metadata": {},
   "source": [
    "`if` statements can include an `else` block that runs if the condition is not met:"
   ]
  },
  {
   "cell_type": "code",
   "execution_count": null,
   "metadata": {},
   "outputs": [],
   "source": [
    "i = 40\n",
    "\n",
    "if i == 42:\n",
    "    print(\"The meaning of life, the universe and everything.\")\n",
    "else:\n",
    "    print(\"Regular number...\")"
   ]
  },
  {
   "cell_type": "markdown",
   "metadata": {},
   "source": [
    "The condition in a flow control statement should return one of the Boolean values `True` or `False`.\n",
    "The examples above use the `==` operator, which returns `True` if the two operands are equal and `False` otherwise.\n",
    "\n",
    "Since Boolean logic is an important part of most programs, Python has a number of keywords and operators for working with them.\n",
    "\n",
    "* `a == b` returns `True` if `a` and `b` are equal\n",
    "* `a < b` returns `True` if `a` is less than `b`\n",
    "* `a <= b` returns `True` if `a` is less than or equal to `b`\n",
    "* `a > b`, `a >= b` return True if a is greater than (greater than or equal to) `b`\n",
    "\n",
    "Conditions can also be negated and combined:\n",
    "\n",
    "* `a < c and b < c` returns True if `a` is less than `c` *and* `b` is less than `c`\n",
    "* `a < c` or `b < c` returns True if either of `a` *or* `b` are less than `c`\n",
    "* `not` negates a condition, so `not (a == b)` returns `True` if `(a == b)` returns `False` and is equivalent to `a != b`"
   ]
  },
  {
   "cell_type": "code",
   "execution_count": null,
   "metadata": {},
   "outputs": [],
   "source": [
    "day = \"thu\"\n",
    "\n",
    "if day == \"sat\" or day == \"sun\":\n",
    "    print(\"Weekend - boom!\")\n",
    "else:\n",
    "    print(\"Ugh. Working day.\")"
   ]
  },
  {
   "cell_type": "markdown",
   "metadata": {},
   "source": [
    "`if` statements can include an `elif` statement that allows them to evaluate multiple conditions:"
   ]
  },
  {
   "cell_type": "code",
   "execution_count": null,
   "metadata": {},
   "outputs": [],
   "source": [
    "day = \"mon\"\n",
    "is_holiday = True\n",
    "\n",
    "if day == \"mon\" and is_holiday:\n",
    "    print(\"Bank holiday?\")\n",
    "\n",
    "elif day == \"sat\" or day == \"sun\":\n",
    "    print(\"Weekend - awesome!\")\n",
    "\n",
    "elif day == \"fri\":\n",
    "    print(\"One more day to go...\")\n"
   ]
  },
  {
   "cell_type": "markdown",
   "metadata": {},
   "source": [
    "Here, we have set the variable `is_holiday` to the Boolean constant `True`, which we can use directly inside conditions.\n",
    "We have also left blank lines between each branch of the `if` statement - this is not necessary, but it can help with readability when there are multiple conditions with complex logic.\n",
    "\n",
    "If you look at other examples of Python code, you will see some where non-Boolean variables are used in flow-control statements.\n",
    "This works because Python automatically converts any type of variable to either `True` or `False` if it needs to, according to some defined rules.\n",
    "However, such statements can be difficult to read, so it is usually clearer to spell out conditions explicitly."
   ]
  },
  {
   "cell_type": "markdown",
   "metadata": {},
   "source": [
    "### ii. Exercise\n",
    "\n",
    "Consider again the quadratic equation from c (ii): $ax^{2} + bx + c = 0$\n",
    "\n",
    "The roots of the equation are given by:\n",
    "\n",
    "$x = \\frac{ -b \\pm \\sqrt{b^{2} - 4ac} }{ 2a }$\n",
    "\n",
    "If the descriminant $b^{2} - 4ac$ is less than zero, the roots will be complex numbers and `math.sqrt()` will fail with an error.\n",
    "\n",
    "Adapt your code as follows:\n",
    "\n",
    "1. Calculate the descriminant.\n",
    "2. If the descriminant is less than zero, print an error message.\n",
    "3. If not, calculate and print the roots as before.\n",
    "\n",
    "Test your code for the following two equations:\n",
    "\n",
    "$y = 2 x^{2} + 4 x - 5$\n",
    "\n",
    "$y = x^{2} + 2 x + 3$"
   ]
  },
  {
   "cell_type": "code",
   "execution_count": null,
   "metadata": {},
   "outputs": [],
   "source": [
    "# Enter and test your code here."
   ]
  },
  {
   "cell_type": "markdown",
   "metadata": {},
   "source": [
    "### iii. The `while` loop\n",
    "\n",
    "A `while` loop allows programs to run the same block of code while a condition is `True`.\n",
    "In Python, the `while` loop takes the form:\n",
    "\n",
    "```\n",
    "while condition:\n",
    "    statement\n",
    "    ...\n",
    "```\n",
    "\n",
    "Here is an example:"
   ]
  },
  {
   "cell_type": "code",
   "execution_count": null,
   "metadata": {},
   "outputs": [],
   "source": [
    "i = 3\n",
    "\n",
    "while i > 0:\n",
    "    print(\"{0}...\".format(i))\n",
    "    i = i - 1\n",
    "\n",
    "print(\"BOOM!\")"
   ]
  },
  {
   "cell_type": "markdown",
   "metadata": {},
   "source": [
    "Note that, like the `if` statement, the body of the `while` loop is marked out by indentation."
   ]
  },
  {
   "cell_type": "markdown",
   "metadata": {},
   "source": [
    "### iv. The `for` loop\n",
    "\n",
    "A `for` loop runs over a set of items that are \"yielded\" by a type of object known as a \"generator\".\n",
    "The `for` loop takes the form:\n",
    "\n",
    "```\n",
    "for name in iterator:\n",
    "    statement\n",
    "    ...\n",
    "```\n",
    "\n",
    "In Python, a generator is an object that will repeatedly return a value from a set until it runs out, at which point it generates an error that stops the loop.\n",
    "A very common example of a generator is the Python `list`, a \"collection\" of values - when used in a `for` loop, the list's generator returns each value in the list in sequence until it reaches the end, then raises the error to stop the iteration.\n",
    "The `list` will be introduced in the next section.\n",
    "\n",
    "Another common use of generators is with the `range()` function, which returns a range of values between a start and end point:"
   ]
  },
  {
   "cell_type": "code",
   "execution_count": null,
   "metadata": {},
   "outputs": [],
   "source": [
    "for i in range(1, 16):\n",
    "    print(\"i= {0}, i ** 2 = {1}\".format(i, i ** 2))"
   ]
  },
  {
   "cell_type": "markdown",
   "metadata": {},
   "source": [
    "Note that the `stop` parameter used with `range()` is \"exclusive\" - the function returns a sequence of values from `start` to `stop - 1`."
   ]
  },
  {
   "cell_type": "markdown",
   "metadata": {},
   "source": [
    "### v. The `continue` and `break` statements\n",
    "\n",
    "The `continue` and `break` statements provide some extra control over the code in `while` and `for` loop bodies: `continue` skips to the next iteration of the loop, while break stops the loop and carries on with the code after it."
   ]
  },
  {
   "cell_type": "code",
   "execution_count": null,
   "metadata": {},
   "outputs": [],
   "source": [
    "i = 10\n",
    "\n",
    "while i > 0:\n",
    "    print(\"{0}...\".format(i))\n",
    "    i = i - 1\n",
    "    \n",
    "    if i == 3:\n",
    "        print(\"Countdown aborted!\")\n",
    "        break"
   ]
  },
  {
   "cell_type": "code",
   "execution_count": null,
   "metadata": {},
   "outputs": [],
   "source": [
    "for i in range(1, 16):\n",
    "    if i < 10:\n",
    "        continue\n",
    "    \n",
    "    print(\"i = {0}, i ** 4 = {1:,}\".format(i, i ** 4))"
   ]
  },
  {
   "cell_type": "markdown",
   "metadata": {},
   "source": [
    "Note that it is possible to nest different flow-control statements, as in the above two examples, by marking code with appropriate indentation.\n",
    "\n",
    "Also note that the `break` and `continue` statements are often used with `if` statements.\n",
    "A particularly common use of `break` is with \"infinite\" `while` loops:"
   ]
  },
  {
   "cell_type": "code",
   "execution_count": null,
   "metadata": {},
   "outputs": [],
   "source": [
    "i = 2\n",
    "\n",
    "while True:\n",
    "    i = i * i\n",
    "    \n",
    "    print(\"i is now: {0:,}\".format(i))\n",
    "    \n",
    "    if i > 1000000:\n",
    "        print(\"OK -- i is big enough now!\")\n",
    "        break"
   ]
  },
  {
   "cell_type": "markdown",
   "metadata": {},
   "source": [
    "This loop runs indefinitely until a condition is met.\n",
    "The condition could be linked to something \"external\" to the script, for example in a text-based menu that repeatedly asks for user input.\n",
    "\n",
    "However, care must be taken - making a mistake in an infinite `while` loop can lead to the condition(s) that `break` it never being reached, so the script runs forever until stopped and possibly blocks an entire CPU core while doing so (!).\n",
    "\n",
    "In the above code block, if we had set `i = 1`, this would have happened.\n",
    "(If you absolutely _must_ try this, then you can stop execution by selecting Kernel > Shutdown from the menu and then Kernel > Restart to get the notebook running again.)"
   ]
  },
  {
   "cell_type": "markdown",
   "metadata": {},
   "source": [
    "## e. Collections of variables: `list`s and `tuple`s\n",
    "\n",
    "Collections allow variables to be grouped together.\n",
    "A collection might be used to hold a row of a data table, for example, or a set of readings from an instrument.\n",
    "\n",
    "Several fundamental types of collection exist for different types of problem, and most programming languages offer a set of collections as part of a standard libaray.\n",
    "\n",
    "In this section, we will look at two collections that are commonly used in Python scripts: the `list` and the `tuple`."
   ]
  },
  {
   "cell_type": "markdown",
   "metadata": {},
   "source": [
    "### i. The Python `list`\n",
    "\n",
    "The `list` is, as its name suggests, collection of variables that can be accessed by a numerical index.\n",
    "\n",
    "Declaring a list uses the square bracket syntax:"
   ]
  },
  {
   "cell_type": "code",
   "execution_count": null,
   "metadata": {},
   "outputs": [],
   "source": [
    "# Empty list.\n",
    "\n",
    "empty_list = []\n",
    "\n",
    "print(\"empty_list\")\n",
    "print(\"----------\")\n",
    "\n",
    "print(empty_list)\n",
    "print(\"\")\n",
    "\n",
    "# List initialised with some values.\n",
    "\n",
    "x = 2\n",
    "\n",
    "power_list = [x, x ** 2, x ** 3]\n",
    "\n",
    "print(\"power_list\")\n",
    "print(\"----------\")\n",
    "\n",
    "print(power_list)"
   ]
  },
  {
   "cell_type": "markdown",
   "metadata": {},
   "source": [
    "Once declared, elements of a list can be read and updated by index as follows:"
   ]
  },
  {
   "cell_type": "code",
   "execution_count": null,
   "metadata": {},
   "outputs": [],
   "source": [
    "price_list = [5.0, 2.0, 1.99, 3.59]\n",
    "\n",
    "print(\"price_list\")\n",
    "print(\"----------\")\n",
    "\n",
    "print(price_list)\n",
    "print(\"\")\n",
    "\n",
    "print(\"price_list[0] =\", price_list[0])\n",
    "print(\"price_list[1] =\", price_list[1])\n",
    "print(\"price_list[2] =\", price_list[2])\n",
    "print(\"price_list[3] =\", price_list[3])\n",
    "\n",
    "print(\"\")\n",
    "\n",
    "# Make some updates.\n",
    "\n",
    "price_list[1] = 2.10\n",
    "price_list[2] = 1.50\n",
    "\n",
    "print(\"updated price_list\")\n",
    "print(\"------------------\")\n",
    "\n",
    "print(price_list)"
   ]
  },
  {
   "cell_type": "markdown",
   "metadata": {},
   "source": [
    "*Note that, in Python, the index of the first element is zero - this is the case in most, but not all, programming languages, and is a common source of confusion and bugs in codes.*\n",
    "\n",
    "Trying to access elements of a list that are outside its bounds is an error:"
   ]
  },
  {
   "cell_type": "code",
   "execution_count": null,
   "metadata": {},
   "outputs": [],
   "source": [
    "price_list[4] = 0.0"
   ]
  },
  {
   "cell_type": "markdown",
   "metadata": {},
   "source": [
    "Lists can be added to using their `append()` function:"
   ]
  },
  {
   "cell_type": "code",
   "execution_count": null,
   "metadata": {},
   "outputs": [],
   "source": [
    "# Declare an empty list.\n",
    "\n",
    "integers = []\n",
    "\n",
    "for i in range(0, 10):\n",
    "    integers.append(i + 1)\n",
    "\n",
    "print(\"integers\")\n",
    "print(\"--------\")\n",
    "\n",
    "print(integers)"
   ]
  },
  {
   "cell_type": "markdown",
   "metadata": {},
   "source": [
    "In this example, a `for` loop is used to generate a sequence of values that are appended to the list to build it up.\n",
    "\n",
    "One of the core utilities of lists in programs - and of collections in general - is that their elements can be looped over:"
   ]
  },
  {
   "cell_type": "code",
   "execution_count": null,
   "metadata": {},
   "outputs": [],
   "source": [
    "num_elements = len(integers)\n",
    "\n",
    "for i in range(0, num_elements):\n",
    "    integer = integers[i]\n",
    "    \n",
    "    print(\"integers[{0}] = {1}\".format(i, integer))"
   ]
  },
  {
   "cell_type": "markdown",
   "metadata": {},
   "source": [
    "In the above code we have used the built-in `len()` function.\n",
    "When passed a collection as its argument, `len()` returns the number of elements.\n",
    "This is used with the `range()` function to generate a sequence of list indices, which are then used to print out the list items one by one inside the body of the loop.\n",
    "\n",
    "This \"idiom\" of using `range()` and `len()` to work with lists in a `for` loop is a common sight in Python code.\n",
    "However, if we do not need the index and we just want to loop over the items in a list, there is an alternative (and easier) way of doing this:"
   ]
  },
  {
   "cell_type": "code",
   "execution_count": null,
   "metadata": {},
   "outputs": [],
   "source": [
    "for integer in integers:\n",
    "    print(\"{0} ** 3 = {1:,}\".format(integer, integer ** 3))"
   ]
  },
  {
   "cell_type": "markdown",
   "metadata": {},
   "source": [
    "This use of lists with `for` loops in this manner is also a very common idiom in Python code.\n",
    "\n",
    "To finish with, the following code examples highlight a few of the other capabilities of `list`s - if you are interested in reading more, the [online documentation](https://docs.python.org/3.7/tutorial/datastructures.html) is a good place to start."
   ]
  },
  {
   "cell_type": "code",
   "execution_count": null,
   "metadata": {},
   "outputs": [],
   "source": [
    "# Sorting.\n",
    "\n",
    "price_list = [1.99, 3.00, 0.69, 1.50, 5.99]\n",
    "\n",
    "print(\"price_list\")\n",
    "print(\"----------\")\n",
    "\n",
    "print(price_list)\n",
    "print(\"\")\n",
    "\n",
    "# The sort() method sorts the list in-place.\n",
    "\n",
    "price_list.sort()\n",
    "\n",
    "print(\"Sorted price_list\")\n",
    "print(\"-----------------\")\n",
    "\n",
    "print(price_list)\n",
    "print(\"\")"
   ]
  },
  {
   "cell_type": "code",
   "execution_count": null,
   "metadata": {},
   "outputs": [],
   "source": [
    "# Concatenating (joining).\n",
    "\n",
    "integers_1 = [1, 2, 3, 4, 5 ]\n",
    "integers_2 = [6, 7, 8, 9, 10]\n",
    "\n",
    "# Lists can be concatenated using the + operator.\n",
    "\n",
    "integers = integers_1 + integers_2\n",
    "\n",
    "print(\"integers\")\n",
    "print(\"--------\")\n",
    "\n",
    "print(integers)"
   ]
  },
  {
   "cell_type": "code",
   "execution_count": null,
   "metadata": {},
   "outputs": [],
   "source": [
    "# Reversing.\n",
    "\n",
    "integers.reverse()\n",
    "\n",
    "print(\"Reversed integers\")\n",
    "print(\"-----------------\")\n",
    "\n",
    "print(integers)"
   ]
  },
  {
   "cell_type": "code",
   "execution_count": null,
   "metadata": {},
   "outputs": [],
   "source": [
    "# Membership testing.\n",
    "\n",
    "# The syntax \"val in list\" returns True if the list contains val at least once, and False if it doesn't.\n",
    "\n",
    "if 5 in integers:\n",
    "    print(\"integers contains the number 5\")\n",
    "\n",
    "# There is also a corresponding \"val not in list\" to test whether something is not in a list.\n",
    "\n",
    "if 42 not in integers:\n",
    "    print(\"integers does not contain the meaning of life, the universe and everything\")"
   ]
  },
  {
   "cell_type": "markdown",
   "metadata": {},
   "source": [
    "### ii. Exercise\n",
    "\n",
    "This example illustrates a realistic use of lists - generating two collections of x and y values for plotting a sine wave.\n",
    "Try to complete the partial code in the cell below:"
   ]
  },
  {
   "cell_type": "code",
   "execution_count": null,
   "metadata": {},
   "outputs": [],
   "source": [
    "import math\n",
    "\n",
    "# Generate a list of 101 evenly-spaced x values between 0 and 2 pi.\n",
    "\n",
    "x_values = []\n",
    "\n",
    "increment = (2 * math.pi) / 100\n",
    "\n",
    "for i in range(0, 101):\n",
    "    x_values = i * increment\n",
    "\n",
    "# Complete the code to do the following:\n",
    "#   1. Create an empty list to hold the y values.\n",
    "#   2. Loop over the x in x_values, calculate y = sin(x) and fill out y_values."
   ]
  },
  {
   "cell_type": "markdown",
   "metadata": {},
   "source": [
    "### iii. `tuple`s\n",
    "\n",
    "The Python `tuple` is conceptually similar to a `list`, with the important difference that tuples are \"immutable\" - once a tuple has been created, its contents cannot be changed.\n",
    "\n",
    "Tuples are declared in a similar way to a list:"
   ]
  },
  {
   "cell_type": "code",
   "execution_count": null,
   "metadata": {},
   "outputs": [],
   "source": [
    "point = (0.0, 1.0)\n",
    "\n",
    "print(\"point\")\n",
    "print(\"-----\")\n",
    "\n",
    "print(point)\n",
    "print(\"\")"
   ]
  },
  {
   "cell_type": "markdown",
   "metadata": {},
   "source": [
    "Tuples can be inspected and looped over using the same mechanisms as lists:"
   ]
  },
  {
   "cell_type": "code",
   "execution_count": null,
   "metadata": {},
   "outputs": [],
   "source": [
    "x = 0\n",
    "y = 1\n",
    "z = 2.5\n",
    "\n",
    "vector = (x, y, z)\n",
    "\n",
    "print(\"vector\")\n",
    "print(\"------\")\n",
    "\n",
    "print(vector)\n",
    "print(\"\")\n",
    "\n",
    "for i in range(0, len(vector)):\n",
    "    print(\"vector[{0}] = {1}\".format(i, vector[i]))\n",
    "\n",
    "print(\"\")\n",
    "\n",
    "for component in vector:\n",
    "    print(\"component =\", component)\n"
   ]
  },
  {
   "cell_type": "markdown",
   "metadata": {},
   "source": [
    "However, as noted above, once created a tuple cannot be updated by reassigning elements:"
   ]
  },
  {
   "cell_type": "code",
   "execution_count": null,
   "metadata": {},
   "outputs": [],
   "source": [
    "vector[1] = 3.0"
   ]
  },
  {
   "cell_type": "markdown",
   "metadata": {},
   "source": [
    "The process of constructing a tuple from a set of variables is called \"packing\".\n",
    "Provided we know how many items are in a tuple, the reverse operation - \"unpacking\" - is also possible:"
   ]
  },
  {
   "cell_type": "code",
   "execution_count": null,
   "metadata": {},
   "outputs": [],
   "source": [
    "print(\"vector\")\n",
    "print(\"------\")\n",
    "\n",
    "print(vector)\n",
    "print(\"\")\n",
    "\n",
    "x, y, z = vector\n",
    "\n",
    "print(\"x =\", x)\n",
    "print(\"y =\", y)\n",
    "print(\"z =\", z)"
   ]
  },
  {
   "cell_type": "markdown",
   "metadata": {},
   "source": [
    "Temporarily packing and unpacking groups of variables into tuples is a very \"Pythonic\" way of moving data around between sections of code, and you will see this done often, for example into and out of functions (see next section)."
   ]
  },
  {
   "cell_type": "markdown",
   "metadata": {},
   "source": [
    "## f. Functions\n",
    "\n",
    "You have been using functions - also called \"methods\" in certain contexts - in various places in the past few examples.\n",
    "\n",
    "Functions are reusable blocks of code - they have a name they can be called with, they may accept variables as one or more arguments, and they may return a result.\n",
    "\n",
    "Functions serve various purposes, but the main ones are that they help to avoid code repetition, which makes complicated scripts easier to maintain, and they also help to keep the code organised by grouping parts of programs together."
   ]
  },
  {
   "cell_type": "markdown",
   "metadata": {},
   "source": [
    "### i. Declaring and using functions\n",
    "\n",
    "Functions in Python are declared as follows:"
   ]
  },
  {
   "cell_type": "code",
   "execution_count": null,
   "metadata": {},
   "outputs": [],
   "source": [
    "def XSquared(x):\n",
    "    return x ** 2"
   ]
  },
  {
   "cell_type": "markdown",
   "metadata": {},
   "source": [
    "Function declarations begin with the `def` keyword, followed by a name (identifier), a set of parentheses that include any named arguments the function takes, and a colon.\n",
    "The name and the number of arguments define the \"signature\" of the function.\n",
    "\n",
    "The body of the function is then written below the signature and marked by indentation - this is the code that is executed when the function is called, and it has access to variables passed as arguments.\n",
    "\n",
    "The `return` keyword can be used to return a value from the function.\n",
    "This is not required - some functions do not need to return anything - and if a return value is not explicitly specified a function will return the Python constant `None`.\n",
    "\n",
    "Functions can be used as follows:"
   ]
  },
  {
   "cell_type": "code",
   "execution_count": null,
   "metadata": {},
   "outputs": [],
   "source": [
    "x = 10\n",
    "x_2 = XSquared(x)\n",
    "\n",
    "print(\"x =\", x, \", x^2 =\", x_2)"
   ]
  },
  {
   "cell_type": "markdown",
   "metadata": {},
   "source": [
    "Here are some more examples of functions:"
   ]
  },
  {
   "cell_type": "code",
   "execution_count": null,
   "metadata": {},
   "outputs": [],
   "source": [
    "# Function with no arguments.\n",
    "\n",
    "def Greet():\n",
    "    print(\"Hello!\")\n",
    "\n",
    "Greet()"
   ]
  },
  {
   "cell_type": "code",
   "execution_count": null,
   "metadata": {},
   "outputs": [],
   "source": [
    "# Function using flow control for error handling.\n",
    "\n",
    "def Countdown(n):\n",
    "    if n <= 0:\n",
    "        print(\"Are you _trying_ to send me into an infinite loop???\")\n",
    "        return\n",
    "    \n",
    "    while n > 0:\n",
    "        print(\"{0}...\".format(n))\n",
    "        n = n - 1\n",
    "        \n",
    "    print(\"BOOM!\")\n",
    "\n",
    "Countdown(5)"
   ]
  },
  {
   "cell_type": "code",
   "execution_count": null,
   "metadata": {},
   "outputs": [],
   "source": [
    "# Function taking multiple arguments.\n",
    "\n",
    "def PrintPowers(x_start, x_end, power):\n",
    "    if x_end < x_start:\n",
    "        print(\"Error: x_end must be <= x_start\")\n",
    "        return\n",
    "    \n",
    "    # Finish at x_end + 1 to include x_end in range.\n",
    "    \n",
    "    for x in range(x_start, x_end + 1):\n",
    "        print(\"x = {0:,} -> x ** {1} = {2:,}\".format(x, power, x ** power))\n",
    "\n",
    "PrintPowers(2, 16, 4)"
   ]
  },
  {
   "cell_type": "markdown",
   "metadata": {},
   "source": [
    "The first example shows the definition and use of a function with no arguments.\n",
    "\n",
    "The second example is more complex and shows how functions might include error handling.\n",
    "This function implements a countdown using the infinite `while` loop technique shown in the flow control section.\n",
    "Before doing so, it checks to make sure the argument is \"sane\" and, if not, prints an error message and then uses the `return` keyword to skip the rest of the function code.\n",
    "(This use of `return` is comparable to a `break` statement in a loop.)\n",
    "\n",
    "The third example shows a function that takes three arguments, and again includes some error handling.\n",
    "\n",
    "It is also possible for functions to call themselves.\n",
    "The classic example of such a \"recursive\" function is for implementing the factorial operation $n!$:"
   ]
  },
  {
   "cell_type": "code",
   "execution_count": null,
   "metadata": {},
   "outputs": [],
   "source": [
    "def Factorial(n):\n",
    "    if n == 0:\n",
    "        return 1\n",
    "    else:\n",
    "        return n * Factorial(n - 1)\n",
    "\n",
    "really_big_number = Factorial(1000)\n",
    "\n",
    "print(\"{0:,}\".format(really_big_number))"
   ]
  },
  {
   "cell_type": "markdown",
   "metadata": {},
   "source": [
    "Note however that, as in many languages, there is a limit to function recursion - if you try the above example with `n = 10000`, you will get an error.\n",
    "This can of course be avoided by using a `for` or `while` loop instead of the recursive function.\n",
    "(If you enjoy a challenge, you could make yourself a new code cell with Insert > Insert Cell Below and try it!)\n",
    "\n",
    "Finally, one of the most common uses of `tuple`s in Python is to allow functions to return more than one argument:"
   ]
  },
  {
   "cell_type": "code",
   "execution_count": null,
   "metadata": {},
   "outputs": [],
   "source": [
    "def DivideRemainder(x, div_by):\n",
    "    div = x // div_by\n",
    "    rem = x % div_by\n",
    "    \n",
    "    return (div, rem)\n",
    "\n",
    "result = DivideRemainder(7, 5)\n",
    "\n",
    "div, rem = result\n",
    "\n",
    "print(\"7 / 5: div = {0}, rem = {1}\".format(div, rem))"
   ]
  },
  {
   "cell_type": "markdown",
   "metadata": {},
   "source": [
    "The function return value can also be unpacked in one line:"
   ]
  },
  {
   "cell_type": "code",
   "execution_count": null,
   "metadata": {},
   "outputs": [],
   "source": [
    "div, rem = DivideRemainder(7, 5)\n",
    "\n",
    "print(\"7 / 5: div = {0}, rem = {1}\".format(div, rem))"
   ]
  },
  {
   "cell_type": "markdown",
   "metadata": {},
   "source": [
    "You will see this technique used a lot in Python code."
   ]
  },
  {
   "cell_type": "markdown",
   "metadata": {},
   "source": [
    "### ii. Exercise\n",
    "\n",
    "For some practice at using functions and the other flow-control constructs you have seen, in the last exercise in this notebook we will look at another typical problem given to students learning to code: finding prime numbers.\n",
    "\n",
    "A prime number is a number that is only divisible by itself and 1 - the first few prime numbers are 1, 2, 3, 5, 7, and 11.\n",
    "\n",
    "Prime numbers have an important role in day-to-day computing because they are used by some of the standard cryptography algorithms that encrypt data as it travels over the internet.\n",
    "\n",
    "Suppose we want a list and count of prime numbers from 1 up to a maximum value $N$.\n",
    "We might write an `IsPrime()` function that takes an integer `n` as its argument and returns a Boolean `True` if `n` is prime or `False` if it isn't.\n",
    "This function could work as follows:\n",
    "\n",
    "* Loop over values from `i = 2` to `i = n - 1` and take the division remainder `n % i`.\n",
    "* If the remainder is zero then the number is not prime and the function can immediately return `False`.\n",
    "* If the loop completes without returning `False` for any value of `i` tested, then `n` must be prime, so the function can return `True`.\n",
    "\n",
    "Once this function is implemented, we can then use a `for` loop to iterate over values from 1 to `n`, test each one using the function, and print and keep a count of those that are found to be prime.\n",
    "\n",
    "The following code sets this up, but the implementation of the `IsPrime()` function is missing.\n",
    "Have a go at completing this.\n",
    "\n",
    "If your implementation works, the code should find 26 prime numbers between 1 and 100."
   ]
  },
  {
   "cell_type": "code",
   "execution_count": null,
   "metadata": {},
   "outputs": [],
   "source": [
    "n_max = 100\n",
    "\n",
    "def IsPrime(n):\n",
    "    return True # This needs implementing.\n",
    "\n",
    "prime_count = 0\n",
    "\n",
    "for n in range(1, n_max + 1):\n",
    "    if IsPrime(n):\n",
    "        prime_count = prime_count + 1\n",
    "        print(\"Found a prime number: n = {0}\".format(n))\n",
    "\n",
    "print(\"\")\n",
    "        \n",
    "print(\"Total: {0} prime number(s)\".format(prime_count))"
   ]
  },
  {
   "cell_type": "markdown",
   "metadata": {},
   "source": [
    "If you are comfortable with Python, it is possible to optimise the code by noting that we only need to test divisors from `i = 2` to `i = sqrt(n)` to test whether a number is prime.\n",
    "(Think about why this is.)\n",
    "\n",
    "(Hint: If you are using the `range()` function to generate values of `i` to test, you will need to convert your `sqrt()` to an integer.)"
   ]
  }
 ],
 "metadata": {
  "kernelspec": {
   "display_name": "Python 3",
   "language": "python",
   "name": "python3"
  },
  "language_info": {
   "codemirror_mode": {
    "name": "ipython",
    "version": 3
   },
   "file_extension": ".py",
   "mimetype": "text/x-python",
   "name": "python",
   "nbconvert_exporter": "python",
   "pygments_lexer": "ipython3",
   "version": "3.7.0"
  }
 },
 "nbformat": 4,
 "nbformat_minor": 2
}
