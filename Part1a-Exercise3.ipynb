{
 "cells": [
  {
   "cell_type": "markdown",
   "metadata": {},
   "source": [
    "# Exercise 3: Data visualisation and plotting with `Matplotlib`\n",
    "\n",
    "[Matplotlib](https://matplotlib.org/) is a Python package for visualising data and generating graphics.\n",
    "It is used by many Python programmers for plotting and, like NumPy, is a core part of the scientific Python ecosystem.\n",
    "\n",
    "Basic plotting tasks can be accompalished using Matplotlib in just a few lines of code.\n",
    "Matplotlib is also very flexible, and can easily be used to generate complex, publication-quality graphics with multiple subplots, insets,  *etc.*\n",
    "\n",
    "This flexibility does come at a cost, though, which is that it takes a lot of practice to learn the more advanced commands.\n",
    "The way most people use Matplotlib is to gradually build up a library of small plotting programs for different tasks, from which they can then take pieces of code to prepare more complex graphics when you need to.\n",
    "\n",
    "On that point, *Google is your friend*: searching for things like \"changing line colours Matplotlib\" will almost always bring you to a site with a code example and explanation you can follow/adapt to your needs."
   ]
  },
  {
   "cell_type": "markdown",
   "metadata": {},
   "source": [
    "## a. Introduction to Matplotlib"
   ]
  },
  {
   "cell_type": "markdown",
   "metadata": {},
   "source": [
    "### i. Plotting basics\n",
    "\n",
    "To illustrate the basics of plotting in Matplotlib, we will plot $y = \\mathrm{sin}(x)$ over the interval $0 \\rightarrow 2\\pi$.\n",
    "First, we use some routines from NumPy, introduced in Exercise 2, to generate some data:"
   ]
  },
  {
   "cell_type": "code",
   "execution_count": null,
   "metadata": {},
   "outputs": [],
   "source": [
    "import numpy as np\n",
    "\n",
    "x_data = np.linspace(0, 2 * np.pi, 101)\n",
    "y_data = np.sin(x_data)"
   ]
  },
  {
   "cell_type": "markdown",
   "metadata": {},
   "source": [
    "The `import <module> as <name>` syntax and `np.linspace()` function were both introduced in Exercise 2.\n",
    "\n",
    "`np.pi` is a constant with the value of $\\pi$; we could also just as well have imported the `math` module and used `math.pi` as we did in Exercise 1.\n",
    "\n",
    "The `np.sin()` call is new.\n",
    "The NumPy `sin()` function takes a NumPy array as its argument, computes the sine of each element, and returns a new array with the result.\n",
    "\n",
    "This can be verified using the `shape` parameter:"
   ]
  },
  {
   "cell_type": "code",
   "execution_count": null,
   "metadata": {},
   "outputs": [],
   "source": [
    "print(\"x_data.shape =\", x_data.shape)\n",
    "print(\"y_data.shape =\", y_data.shape)"
   ]
  },
  {
   "cell_type": "markdown",
   "metadata": {},
   "source": [
    "NumPy implements most of the standard mathematical operations, including the trigonometric functions `np.sin()`, `np.cos()` and `np.tan()` as well as other operations such as `np.power()` and `np.exp()`.\n",
    "\n",
    "The following is a minimal Matplotlib script for plotting this data:"
   ]
  },
  {
   "cell_type": "code",
   "execution_count": null,
   "metadata": {},
   "outputs": [],
   "source": [
    "# This is a special directive to instruct Jupyter to show Matplotlib graphics \"inline\" in the code cell output.\n",
    "\n",
    "%matplotlib inline\n",
    "\n",
    "# Import main pyplot API.\n",
    "\n",
    "import matplotlib.pyplot as plt\n",
    "\n",
    "# Create a new figure object.\n",
    "\n",
    "plt.figure()\n",
    "\n",
    "# Add a line to the plot.\n",
    "\n",
    "plt.plot(x_data, y_data)\n",
    "\n",
    "# Set axis labels.\n",
    "\n",
    "plt.xlabel(\"x\")\n",
    "plt.ylabel(\"sin(x)\")\n",
    "\n",
    "# Show the figure (will appear in the output below the cell).\n",
    "\n",
    "plt.show()\n",
    "\n",
    "# Clean up.\n",
    "\n",
    "plt.close()"
   ]
  },
  {
   "cell_type": "markdown",
   "metadata": {},
   "source": [
    "Most of the core Matplotlib functionality is available *via* the `pyplot` API, which we import at the top of the script using the \"rename\" import we use for NumPy (referring to `pyplot` by the shorthand `plt` is standard in most scripts that use Matplotlib).\n",
    "\n",
    "The `figure()` function creates a new figure.\n",
    "`plot()` adds a line to the figure, and `xlabel()` and `ylabel()` set the axis labels.\n",
    "`show()` draws the figure, and `close()` cleans up and frees the resources used to keep track of the content and to draw it.\n",
    "\n",
    "The following example is similar, but shows some additional customisation:"
   ]
  },
  {
   "cell_type": "code",
   "execution_count": null,
   "metadata": {},
   "outputs": [],
   "source": [
    "# Generate two data series.\n",
    "\n",
    "x = np.linspace(0, 2 * np.pi, 101)\n",
    "\n",
    "sin_x = np.sin(x)\n",
    "cos_x = np.cos(x)\n",
    "\n",
    "plt.figure()\n",
    "\n",
    "# Plot both data series with optional labels and line colours.\n",
    "\n",
    "plt.plot(x, sin_x, label = \"f(x) = sin(x)\", color = 'b')\n",
    "plt.plot(x, cos_x, label = \"f(x) = cos(x)\", color = 'r')\n",
    "\n",
    "plt.xlabel(\"x\")\n",
    "plt.ylabel(\"f(x)\")\n",
    "\n",
    "# Add a legend in the lower-left corner.\n",
    "\n",
    "plt.legend(loc = 'lower left')\n",
    "\n",
    "# Set axis limits.\n",
    "\n",
    "plt.xlim(0, 2 * np.pi)\n",
    "plt.ylim(-1, 1)\n",
    "\n",
    "plt.show()\n",
    "\n",
    "plt.close()"
   ]
  },
  {
   "cell_type": "markdown",
   "metadata": {},
   "source": [
    "This time the code generates and plots two data series: $y = \\mathrm{sin}(x)$ and $y = \\mathrm{cos}(x)$.\n",
    "\n",
    "The two calls to `plot()` specify a label and a line colour for each curve using the `label` and `color` \"keyword arguments\".\n",
    "Keyword arguments are optional arguments that can be passed to Python functions to override default values.\n",
    "(By default, Matplotlib will choose its own colours, and will set the label to the \"null\" value `None`.)\n",
    "\n",
    "There are several ways to specify colours in Matplotlib:\n",
    "\n",
    "* The easiest method is to use the one-letter codes for common colours such as red (`color = 'r'`), green (`g`) and blue (`b`).\n",
    "* Alternatively, functions that take a `color` keyword argument also accept \"named colours\" from the [standard web palette](https://www.w3schools.com/colors/colors_names.asp), for example `color = 'aquamarine'`.\n",
    "* A third method is to manually specify colours as a tuple of red, green and blue values between 0 and 1 - for example `color = (1.0, 0.5, 0.5)` specifies 100 % red, 50 % green and 50 % blue, which results in a peach colour.\n",
    "\n",
    "Feel free to modify the code cell above and try these options out.\n",
    "\n",
    "Adding labels to the data enables us to add a legend with the `legend()` function.\n",
    "This takes a `loc` keyword that allows a location to be specified.\n",
    "The `loc` parameter can either accept text strings, as used here, or integer codes - a list of these can be found mid-way down the [online documentation page](https://matplotlib.org/3.1.1/api/_as_gen/matplotlib.pyplot.legend.html).\n",
    "\n",
    "Finally, we also set the x- and y-axis limits using the `xlim()` and `ylim()` functions.\n",
    "\n",
    "If we were being picky, there is one more point of formatting that we might want to fix:"
   ]
  },
  {
   "cell_type": "code",
   "execution_count": null,
   "metadata": {},
   "outputs": [],
   "source": [
    "# Generate a sequence of values to place x-axis \"ticks\" at multiples of pi/2.\n",
    "# np.linspace(0, 2 * np.pi, 5) will generate five points between 0 -> 2pi.\n",
    "\n",
    "x_ticks = np.linspace(0, 2 * np.pi, 5)\n",
    "x_tick_labels = [\"0\", \"pi/2\", \"pi\", \"3pi/2\", \"2pi\"]\n",
    "\n",
    "plt.figure()\n",
    "\n",
    "plt.plot(x, sin_x, label = \"f(x) = sin(x)\", color = 'b')\n",
    "plt.plot(x, cos_x, label = \"f(x) = cos(x)\", color = 'r')\n",
    "\n",
    "plt.xlabel(\"x\")\n",
    "plt.ylabel(\"f(x)\")\n",
    "\n",
    "plt.legend(loc = 'lower left')\n",
    "\n",
    "plt.xlim(0, 2 * np.pi)\n",
    "plt.ylim(-1, 1)\n",
    "\n",
    "# Manually specify x tick locations and labels.\n",
    "\n",
    "plt.xticks(x_ticks, x_tick_labels)\n",
    "\n",
    "plt.show()\n",
    "\n",
    "plt.close()"
   ]
  },
  {
   "cell_type": "markdown",
   "metadata": {},
   "source": [
    "This code cell makes use of the `xticks()` function to manually specify the locations and labels of the x-axis \"ticks\".\n",
    "\n",
    "The `np.linspace()` function is used to obtain a sequence of five values between $0 \\rightarrow 2\\pi$, and a list of five text labels is created to accompany it.\n",
    "These are then passed to the `xticks()` function.\n",
    "\n",
    "As noted above, this is really being picky - if we just wanted to generate a quick plot of some data to look at, we probably wouldn't bother.\n",
    "If, on the other hand, we were preparing graphics for a report, paper or presentation, subtleties like this can add up to making things that little bit more \"polished\".\n",
    "\n",
    "As noted above, one of the big advantages of Matplotlib is that it is highly customisable, so once you get used to how to make these small changes you will be able to produce better-quality figures than you would with, say, Excel, with less effort.\n",
    "Another advantage is that you can combine Matplotlib with other Python code to analyse/process and visualise data in the same script or Jupyter notebook."
   ]
  },
  {
   "cell_type": "markdown",
   "metadata": {},
   "source": [
    "### ii. Exercise\n",
    "\n",
    "The $y = \\mathrm{cos}(x)$ curve can be shifted by adding a phase shift $\\phi$ to $x$:\n",
    "\n",
    "$y = \\mathrm{cos}(x + \\phi)$\n",
    "\n",
    "This is quite straightforward to code using NumPy:"
   ]
  },
  {
   "cell_type": "code",
   "execution_count": null,
   "metadata": {},
   "outputs": [],
   "source": [
    "# Phase shift phi = pi / 4.\n",
    "\n",
    "phi = np.pi / 4\n",
    "\n",
    "# x values between 0 -> 2 pi.\n",
    "\n",
    "x = np.linspace(0, 2 * np.pi, 101)\n",
    "\n",
    "# y = cos(x + phi).\n",
    "\n",
    "y = np.cos(x + phi)"
   ]
  },
  {
   "cell_type": "markdown",
   "metadata": {},
   "source": [
    "The code defines a phase shift $\\phi = \\frac{\\pi}{4}$.\n",
    "It then uses `np.linspace()` to generate a sequence of 101 $x$ values between $0 \\rightarrow 2 \\pi$ as in the previous examples.\n",
    "\n",
    "The next line calculates $y = \\mathrm{cos}(x + \\phi)$.\n",
    "This can be done in a single line of code with `y = np.sin(x + phi)`.\n",
    "This illustrates another useful feature of NumPy's `ndarray`: adding a single (scalar) value to an array performs element-wise addition, similar to Matlab.\n",
    "\n",
    "Using this code and the plotting code from above, write some code to do the following:\n",
    "\n",
    "* Calculate $y = \\mathrm{cos}(x + \\phi)$ for $\\phi = 0$, $\\phi = \\frac{\\pi}{4}$ and $\\phi = \\frac{\\pi}{2}$.\n",
    "* Create a new figure.\n",
    "* Draw the three curves on a single plot with using three different colours and appropriate labels.\n",
    "* Add axis titles and a legend to the plot.\n",
    "* Display the plot.\n",
    "* Close the plot to free resources.\n",
    "\n",
    "*If you wish, it is perfectly fine to copy/paste pieces of code from other cells - this is very often how plots are put together using Matplotlib in practice.*"
   ]
  },
  {
   "cell_type": "code",
   "execution_count": null,
   "metadata": {},
   "outputs": [],
   "source": [
    "# Enter and test your code here."
   ]
  },
  {
   "cell_type": "markdown",
   "metadata": {},
   "source": [
    "## b. Other plot types"
   ]
  },
  {
   "cell_type": "markdown",
   "metadata": {},
   "source": [
    "### i. Area plots\n",
    "\n",
    "In an area plot, the area between the curve and the x-axis is filled with a solid colour.\n",
    "This can help to add visual interest to plots where the area is important.\n",
    "\n",
    "To generate some data for this plot, we will use the normalised Gaussian function $G(x)$:\n",
    "\n",
    "$G(x) = \\frac{1}{\\sigma \\sqrt{2 \\pi}} e^{- \\frac{(x - \\mu)^{2}}{2 \\sigma^{2}}}$\n",
    "\n",
    "NumPy does not have a Gaussian function, but it easy to define one:"
   ]
  },
  {
   "cell_type": "code",
   "execution_count": null,
   "metadata": {},
   "outputs": [],
   "source": [
    "import math\n",
    "\n",
    "def Gaussian(x, a, mu, sigma):\n",
    "    norm = a / (sigma * math.sqrt(2 * math.pi))\n",
    "    exp = (x - mu) ** 2 / (2 * sigma ** 2)\n",
    "    \n",
    "    return norm * np.exp(-1 * exp)"
   ]
  },
  {
   "cell_type": "markdown",
   "metadata": {},
   "source": [
    "This function takes a NumPy array of $x$ values and three scalar values for $a$, $\\mu$ and $\\sigma$ and returns a NumPy array of $y$ values.\n",
    "It can be called as follows:"
   ]
  },
  {
   "cell_type": "markdown",
   "metadata": {},
   "source": [
    "We can now plot this data using the `fill_between()` function to shade the area under the curve:"
   ]
  },
  {
   "cell_type": "code",
   "execution_count": null,
   "metadata": {
    "scrolled": false
   },
   "outputs": [],
   "source": [
    "x = np.linspace(-5, 5, 1001)\n",
    "g_x = Gaussian(x, 1.0, 0.0, 0.5)"
   ]
  },
  {
   "cell_type": "code",
   "execution_count": null,
   "metadata": {},
   "outputs": [],
   "source": [
    "plt.figure()\n",
    "\n",
    "plt.plot(x, g_x, color = 'b')\n",
    "\n",
    "# Fills the area between G(x) and x = 0.\n",
    "\n",
    "plt.fill_between(x, g_x, color = 'b')\n",
    "\n",
    "plt.xlabel(\"x\")\n",
    "plt.ylabel(\"G(x)\")\n",
    "\n",
    "plt.xlim(-5, 5)\n",
    "plt.ylim(0, 1)\n",
    "\n",
    "plt.show()\n",
    "\n",
    "plt.close()"
   ]
  },
  {
   "cell_type": "markdown",
   "metadata": {},
   "source": [
    "It often looks better if, instead of shading the curve area a solid colour, we make the colour semi-transparent.\n",
    "This can be achieved with the `alpha` keyword:"
   ]
  },
  {
   "cell_type": "code",
   "execution_count": null,
   "metadata": {},
   "outputs": [],
   "source": [
    "plt.figure()\n",
    "\n",
    "plt.plot(x, g_x, color = 'b')\n",
    "\n",
    "# Set the transparency with the alpha keyword.\n",
    "\n",
    "plt.fill_between(x, g_x, color = 'b', alpha = 0.25)\n",
    "\n",
    "plt.xlabel(\"x\")\n",
    "plt.ylabel(\"G(x)\")\n",
    "\n",
    "plt.xlim(-5, 5)\n",
    "plt.ylim(0, 1)\n",
    "\n",
    "plt.show()\n",
    "\n",
    "plt.close()"
   ]
  },
  {
   "cell_type": "markdown",
   "metadata": {},
   "source": [
    "`alpha` specifies a transparency between 0 (100 % transparent) and 1 (100 % opaque).\n",
    "\n",
    "This method of presenting data can be particularly effective for peak fitting.\n",
    "\n",
    "In many areas of spectroscopy, a spectrum is fit to a series of peak functions to try and separate out the contributions from individual processes.\n",
    "To give an example, we will simulate this by adding up three Gaussian functions:"
   ]
  },
  {
   "cell_type": "code",
   "execution_count": null,
   "metadata": {},
   "outputs": [],
   "source": [
    "x = np.linspace(0, 10, 1001)\n",
    "\n",
    "# Three peaks with different area (a), centre (mu) and width (sigma).\n",
    "\n",
    "g_1 = Gaussian(x, 1.0, 2.0, 0.5)\n",
    "g_2 = Gaussian(x, 1.5, 4.0, 0.8)\n",
    "g_3 = Gaussian(x, 0.6, 6.5, 1.0)\n",
    "\n",
    "# Add peaks together to simulate a composite spectrum.\n",
    "\n",
    "g_tot = g_1 + g_2 + g_3"
   ]
  },
  {
   "cell_type": "markdown",
   "metadata": {},
   "source": [
    "This illustrates another Matplotlib capability: adding two arrays with the `+` operator performs element-wise addition (provided all the arrays in the operands have compatible shapes)."
   ]
  },
  {
   "cell_type": "code",
   "execution_count": null,
   "metadata": {},
   "outputs": [],
   "source": [
    "plt.figure()\n",
    "\n",
    "# Plot composite spectrum as a black line (color = 'k').\n",
    "\n",
    "plt.plot(x, g_tot, color = 'k')\n",
    "\n",
    "# Plot each of the three peaks with shaded areas in different colours.\n",
    "\n",
    "plt.plot(x, g_1, label = \"Peak 1\", color = 'b')\n",
    "plt.fill_between(x, g_1, color = 'b', alpha = 0.25)\n",
    "\n",
    "plt.plot(x, g_2, label = \"Peak 2\", color = 'r')\n",
    "plt.fill_between(x, g_2, color = 'r', alpha = 0.25)\n",
    "\n",
    "plt.plot(x, g_3, label = \"Peak 3\", color = 'g')\n",
    "plt.fill_between(x, g_3, color = 'g', alpha = 0.25)\n",
    "\n",
    "# Add a legend.\n",
    "\n",
    "plt.legend(loc = 'upper right')\n",
    "\n",
    "plt.xlabel(\"x\")\n",
    "plt.ylabel(\"I(x)\")\n",
    "\n",
    "plt.xlim(0, 10)\n",
    "plt.ylim(0, 1)\n",
    "\n",
    "plt.show()\n",
    "\n",
    "plt.close()"
   ]
  },
  {
   "cell_type": "markdown",
   "metadata": {},
   "source": [
    "### ii. Images\n",
    "\n",
    "Matplotlib also has the ability to read and \"plot\" image data.\n",
    "The following code reads a high-resolution electron micrograph of some pollen cells from [Wikipedia](https://en.wikipedia.org/wiki/File:Misc_pollen.jpg):"
   ]
  },
  {
   "cell_type": "code",
   "execution_count": null,
   "metadata": {},
   "outputs": [],
   "source": [
    "from matplotlib.image import imread\n",
    "\n",
    "image = imread(\"Part1a-Exercise3-Pollen.jpg\")"
   ]
  },
  {
   "cell_type": "markdown",
   "metadata": {},
   "source": [
    "Here we use another variation of the `import` statement which imports one specific function, `imread()`, from the `matplotlib.image` package.\n",
    "\n",
    "`imread()` takes the path to an image file and returns a NumPy array containing the image data:"
   ]
  },
  {
   "cell_type": "code",
   "execution_count": null,
   "metadata": {},
   "outputs": [],
   "source": [
    "print(\"image.ndim:\", image.ndim)\n",
    "print(\"image.shape:\", image.shape)\n",
    "print(\"image.dtype:\", image.dtype)"
   ]
  },
  {
   "cell_type": "markdown",
   "metadata": {},
   "source": [
    "The image has three dimensions.\n",
    "The first two are the pixel dimensions - 935 pixels tall by 1228 wide.\n",
    "The third dimension is the pixel colour - one value each for the red, green and blue components.\n",
    "\n",
    "The data type is `uint8`, which is shorthand for \"8-bit unsigned integer\".\n",
    "This means each colour component is an integer value from 0 to 255 (8 bits can store 2<sup>8</sup> = 256 values).\n",
    "This 24-bit format - 8 bits per red, green and blue colour channel - is quite common for colour images.\n",
    "\n",
    "Images can be included in Matplotlib plots using the `imshow()` function."
   ]
  },
  {
   "cell_type": "code",
   "execution_count": null,
   "metadata": {},
   "outputs": [],
   "source": [
    "plt.figure()\n",
    "\n",
    "# imshow() displays image data on a Matplotlib plot.\n",
    "\n",
    "plt.imshow(image)\n",
    "\n",
    "plt.show()\n",
    "\n",
    "plt.close()"
   ]
  },
  {
   "cell_type": "markdown",
   "metadata": {},
   "source": [
    "The x and y axes are numbered by pixel value.\n",
    "Quite often, we don't want this, so we can use the `axis()` function to remove the labels:"
   ]
  },
  {
   "cell_type": "code",
   "execution_count": null,
   "metadata": {},
   "outputs": [],
   "source": [
    "plt.figure()\n",
    "\n",
    "plt.imshow(image)\n",
    "\n",
    "# Remove axes abels.\n",
    "\n",
    "plt.axis('off')\n",
    "\n",
    "plt.show()\n",
    "\n",
    "plt.close()"
   ]
  },
  {
   "cell_type": "markdown",
   "metadata": {},
   "source": [
    "One of the main uses of using Matplotlib to draw images is that we can apply a \"colour map\" to add a false colour.\n",
    "\n",
    "To do this, we must first convert the image data to grayscale (one colour channel), which can be done by averaging the third dimension:"
   ]
  },
  {
   "cell_type": "code",
   "execution_count": null,
   "metadata": {},
   "outputs": [],
   "source": [
    "image = np.average(image, axis = 2)\n",
    "\n",
    "print(\"image.ndim is now:\", image.ndim)\n",
    "print(\"image.shape is now:\", image.shape)"
   ]
  },
  {
   "cell_type": "markdown",
   "metadata": {},
   "source": [
    "The `np.average()` function takes a NumPy array and the index of the dimension to average.\n",
    "The index is zero-based, so the first dimension is 0, the second is 1 and the third is 3.\n",
    "The return value is a new array with the averaged axis \"removed\" - this is confirmed by inspecting the `ndim` and `shape` properties.\n",
    "\n",
    "We can now plot the image with a colour map:"
   ]
  },
  {
   "cell_type": "code",
   "execution_count": null,
   "metadata": {},
   "outputs": [],
   "source": [
    "plt.figure()\n",
    "\n",
    "# False colour the image using the `cmap` keyword.\n",
    "\n",
    "plt.imshow(image, cmap = 'afmhot')\n",
    "\n",
    "plt.axis('off')\n",
    "\n",
    "plt.show()\n",
    "\n",
    "plt.close()"
   ]
  },
  {
   "cell_type": "markdown",
   "metadata": {},
   "source": [
    "Matplotlib has a large selection of preset colour maps, the names of which are listed in the [online documentation]().\n",
    "You can experiment with these in Exercise 2 below."
   ]
  },
  {
   "cell_type": "markdown",
   "metadata": {},
   "source": [
    "### iii. Exercise\n",
    "\n",
    "You have been provided with a second electron micrograph of some amosite asbestos crystals (from the [US Geological Survey](www.usgs.gov)).\n",
    "The following code cell loads this image and averages the colour channel:"
   ]
  },
  {
   "cell_type": "code",
   "execution_count": null,
   "metadata": {},
   "outputs": [],
   "source": [
    "image = imread(\"Part1a-Exercise3-AmositeAsbestos.png\")\n",
    "\n",
    "# The colour dimension in PNG files has four components: r, g, b and alpha (transparency).\n",
    "# We do not want to include the alpha channel in the average.\n",
    "# To avoid doing so, we select the first three values in the last channel when we pass the image to np.average().\n",
    "# This uses another feature of NumPy arrays which you may recognise from Matlab.\n",
    "\n",
    "image = np.average(image[:, :, :3], 2)"
   ]
  },
  {
   "cell_type": "markdown",
   "metadata": {},
   "source": [
    "In the code cell below, write some code to:\n",
    "\n",
    "* Create a new figure.\n",
    "* Draw the image with a colour map of your choice.\n",
    "* Disable the axes.\n",
    "* Show the coloured image.\n",
    "* Clean up."
   ]
  },
  {
   "cell_type": "code",
   "execution_count": null,
   "metadata": {},
   "outputs": [],
   "source": [
    "# Enter your code here."
   ]
  }
 ],
 "metadata": {
  "kernelspec": {
   "display_name": "Python 3",
   "language": "python",
   "name": "python3"
  },
  "language_info": {
   "codemirror_mode": {
    "name": "ipython",
    "version": 3
   },
   "file_extension": ".py",
   "mimetype": "text/x-python",
   "name": "python",
   "nbconvert_exporter": "python",
   "pygments_lexer": "ipython3",
   "version": "3.7.0"
  }
 },
 "nbformat": 4,
 "nbformat_minor": 2
}
