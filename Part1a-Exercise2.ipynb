{
 "cells": [
  {
   "cell_type": "markdown",
   "metadata": {},
   "source": [
    "# Exercise 2: H&uuml;ckel Theory with `NumPy`\n",
    "\n",
    "[NumPy](https://numpy.org) is a Python extension designed to make numerical computing in Python easier and more efficient.\n",
    "\n",
    "At its most basic, it provides a powerful `ndarray` object for efficiently storing and working on <i>N</i>-dimensional arrays of data (vectors, matrices, <i>etc.</i>), along with functions for linear algebra operations like matrix diagonalisation.\n",
    "In many places the interface is similar to Matlab, so you may recognise some of the syntax and functions.\n",
    "\n",
    "NumPy is used extensively for scientific computing and forms a base for other packages like [SciPy]() that provide more advanced functionality.\n",
    "\n",
    "This exercise introduces some of the core NumPy functionality and illustrates how it can be used for scientific computing, by revisiting the H&uuml;ckel theory from CHEM20212."
   ]
  },
  {
   "cell_type": "markdown",
   "metadata": {},
   "source": [
    "## a. NumPy basics: the `ndarray` object\n",
    "\n",
    "The core NumPy \"building block\" is the N-dimentional array (`ndarray`) object.\n",
    "At a very basic level, a NumPy array is similar to a Python list - it is a collection - but with the following important differences:\n",
    "\n",
    "* All elements have a single data type: e.g. `integer` or `float` types (may correspond to the equivalent Python types).\n",
    "* Fixed size: once created, elements cannot be added or removed without creating a new array.\n",
    "* A shape: arrays can be 1D (vectors), 2D (matrices), or higher dimensional.\n",
    "* Faster: The single data type and fixed size allows NumPy arrays to be stored and operated on more efficiently than the native Python lists.\n",
    "\n",
    "The easiest way to create an `ndarray` is simply to initialise it from a Python list:"
   ]
  },
  {
   "cell_type": "code",
   "execution_count": null,
   "metadata": {
    "scrolled": false
   },
   "outputs": [],
   "source": [
    "import numpy as np\n",
    "\n",
    "data = []\n",
    "\n",
    "for i in range(0, 10):\n",
    "    data.append(i)\n",
    "\n",
    "data_arr = np.array(data)\n",
    "\n",
    "print(\"data\")\n",
    "print(\"----\")\n",
    "\n",
    "print(data)\n",
    "print(\"\")\n",
    "\n",
    "print(\"data_arr\")\n",
    "print(\"--------\")\n",
    "\n",
    "print(data_arr)\n",
    "print(\"\")\n",
    "\n",
    "print(\"Array dimensions:\", data_arr.ndim)\n",
    "print(\"Array shape is:\", data_arr.shape)\n",
    "print(\"Array data type is:\", data_arr.dtype)"
   ]
  },
  {
   "cell_type": "markdown",
   "metadata": {},
   "source": [
    "To use NumPy, we import the `numpy` package.\n",
    "The code `inport numpy as np` imports the library and renames it to the shorthand `np` - you will see this done as standard in nearly all code examples using NumPy. \n",
    "\n",
    "We use a `for` loop to build a Python list containing the numbers 0 - 10.\n",
    "We then create a NumPy array containing the same data by using the `np.array()` function.\n",
    "Printing the list and array shows that they contain the same data.\n",
    "\n",
    "The resulting `ndarray` object contains several properties that can be used to interrogate its contents and layout - the three `print()` statements show its `ndim`, `shape` and `dtype` properties.\n",
    "\n",
    "* `ndim` gives the number of dimensions - in this case, we created the array from a flat list, so it has one dimension.\n",
    "* `shape` returns a tuple with the size of each dimension, which confirms that the first dimension has 10 elements, as expected.\n",
    "* `dtype` indicates that the data is `int32`, which means \"32-bit integers\"; NumPy has automatically identified that all the elements in the list are Python integers, and can be stored in 32 bits, so has chosen an appropriate data type.\n",
    "\n",
    "As for Python lists, elements can be accessed and updated using the square-bracket syntax:"
   ]
  },
  {
   "cell_type": "code",
   "execution_count": null,
   "metadata": {
    "scrolled": false
   },
   "outputs": [],
   "source": [
    "print(\"Initial data_arr\")\n",
    "print(\"----------------\")\n",
    "\n",
    "print(data_arr)\n",
    "print(\"\")\n",
    "\n",
    "print(\"data_arr[0] = \", data_arr[0])\n",
    "print(\"\")\n",
    "\n",
    "data_arr[0] = 42\n",
    "\n",
    "print(\"Updated data_arr\")\n",
    "print(\"----------------\")\n",
    "\n",
    "print(data_arr)\n",
    "print(\"\")\n",
    "\n",
    "print(\"data_arr[0] = \", data_arr[0])\n",
    "print(\"\")"
   ]
  },
  {
   "cell_type": "markdown",
   "metadata": {},
   "source": [
    "Note that, as for Python lists, the first element is accessed with index 0.\n",
    "\n",
    "A 1D NumPy array is a vector.\n",
    "To create a 2D matrix, we can pass the `np.array()` function a \"list of lists\":"
   ]
  },
  {
   "cell_type": "code",
   "execution_count": null,
   "metadata": {
    "scrolled": false
   },
   "outputs": [],
   "source": [
    "matrix = [\n",
    "    [1.0, 0.0, 0.0],\n",
    "    [0.0, 1.0, 0.0],\n",
    "    [0.0, 0.0, 1.0]\n",
    "    ]\n",
    "\n",
    "matrix_arr = np.array(matrix)\n",
    "\n",
    "print(\"matrix_arr\")\n",
    "print(\"----------\")\n",
    "\n",
    "print(matrix_arr)\n",
    "print(\"\")\n",
    "\n",
    "print(\"Matrix dimensions:\", matrix_arr.ndim)\n",
    "print(\"Matrix shape:\", matrix_arr.shape)\n",
    "print(\"Matrix dtype:\", matrix_arr.dtype)"
   ]
  },
  {
   "cell_type": "markdown",
   "metadata": {},
   "source": [
    "This example creates the 3x3 identity matrix.\n",
    "\n",
    "Inspecting the properties of the NumPy array shows that it has two dimensions, each of size 3, and that it has the `float64` data type (64-bit floating point, usually called \"double precision\").\n",
    "\n",
    "The elements in an N-dimensional array can be accessed and updated using a simple extension of the square-bracket syntax for lists/NumPy vectors:"
   ]
  },
  {
   "cell_type": "code",
   "execution_count": null,
   "metadata": {
    "scrolled": false
   },
   "outputs": [],
   "source": [
    "print(\"Initial matrix_arr\")\n",
    "print(\"------------------\")\n",
    "\n",
    "print(matrix_arr)\n",
    "print(\"\")\n",
    "\n",
    "matrix_arr[1, 1] = 2.0\n",
    "matrix_arr[2, 2] = 3.0\n",
    "\n",
    "print(\"Updated matrix_arr\")\n",
    "print(\"------------------\")\n",
    "\n",
    "print(matrix_arr)"
   ]
  },
  {
   "cell_type": "markdown",
   "metadata": {},
   "source": [
    "Note again the zero-based indexing: the element in the second row/second column is accessed with the index [1, 1], and the element in the third row/third column is accessed with [2, 2].\n",
    "\n",
    "Finally, NumPy also has some built-in methods for creating common types of array without going *via* Python lists:"
   ]
  },
  {
   "cell_type": "code",
   "execution_count": null,
   "metadata": {
    "scrolled": false
   },
   "outputs": [],
   "source": [
    "# The arange() function emulates the Python range() function for creating arrays of integers.\n",
    "\n",
    "data = np.arange(0, 10, 1)\n",
    "\n",
    "print(\"data\")\n",
    "print(\"----\")\n",
    "\n",
    "print(data)\n",
    "print(\"\")\n",
    "\n",
    "print(\"data.ndim:\", data.ndim)\n",
    "print(\"data.shape:\", data.shape)\n",
    "print(\"data.dtype:\", data.dtype)"
   ]
  },
  {
   "cell_type": "code",
   "execution_count": null,
   "metadata": {
    "scrolled": false
   },
   "outputs": [],
   "source": [
    "# arange() also works with floating point data types.\n",
    "# Note that, as is the case when called with integer arguments, arange() is _exclusive_ - it does not include the end point (4.5).\n",
    "\n",
    "data = np.arange(0, 4.5, 0.5)\n",
    "\n",
    "print(\"data\")\n",
    "print(\"----\")\n",
    "\n",
    "print(data)\n",
    "print(\"\")\n",
    "\n",
    "print(\"data.ndim:\", data.ndim)\n",
    "print(\"data.shape:\", data.shape)\n",
    "print(\"data.dtype:\", data.dtype)"
   ]
  },
  {
   "cell_type": "code",
   "execution_count": null,
   "metadata": {
    "scrolled": false
   },
   "outputs": [],
   "source": [
    "# The linspace() function produces N equally-spaced data points between two intervals.\n",
    "\n",
    "import math\n",
    "\n",
    "data = np.linspace(0.0, math.pi, 21)\n",
    "\n",
    "print(\"data\")\n",
    "print(\"----\")\n",
    "\n",
    "print(data)\n",
    "print(\"\")\n",
    "\n",
    "print(\"data.ndim\", data.ndim)\n",
    "print(\"data.shape\", data.shape)\n",
    "print(\"data.dtype\", data.dtype)"
   ]
  },
  {
   "cell_type": "code",
   "execution_count": null,
   "metadata": {
    "scrolled": false
   },
   "outputs": [],
   "source": [
    "# Finally, the np.zeros() function creates an array of a set shape filled with zeroes.\n",
    "# The shape is specified as a Python tuple with the size of each dimension.\n",
    "\n",
    "blank_matrix = np.zeros(\n",
    "    (6, 6), dtype = np.float64\n",
    "    )\n",
    "\n",
    "print(\"blank_matrix\")\n",
    "print(\"------------\")\n",
    "\n",
    "print(blank_matrix)\n",
    "print(\"\")\n",
    "\n",
    "print(\"data.ndim\", blank_matrix.ndim)\n",
    "print(\"data.shape\", blank_matrix.shape)\n",
    "print(\"data.dtype\", blank_matrix.dtype)"
   ]
  },
  {
   "cell_type": "markdown",
   "metadata": {},
   "source": [
    "This quick introduction barely scratches the surface of what NumPy can do, but it it sufficient for us to use it to do some computational Chemistry."
   ]
  },
  {
   "cell_type": "markdown",
   "metadata": {},
   "source": [
    "## b. Recap of H&uuml;ckel theory\n",
    "\n",
    "H&uuml;ckel theory was introduced in CHEM20212 as a simple way to study the $\\pi$ system in planar conjugated molecules.\n",
    "\n",
    "A mathematical basis of $N$ $p_{z}$ orbitals on $i$ atoms in the system is used to set up an $N$ &times; $N$ H&uuml;ckel Hamiltonian $\\hat{H}$ as follows:\n",
    "\n",
    "$ \\langle p_{z_{i}} | \\hat{H} | p_{z_{i}} \\rangle = \\alpha $\n",
    "\n",
    "$ \\langle p_{z_{i}} | \\hat{H} | p_{z_{j}} \\rangle = \\beta $ if atoms $i$ and $j$ are bonded\n",
    "\n",
    "$ \\langle p_{z_{i}} | \\hat{H} | p_{z_{j}} \\rangle = 0 $ in all other cases\n",
    "\n",
    "Where $\\alpha$ and $\\beta$ are < 0.\n",
    "\n",
    "Diagonalising $\\hat{H}$ yields the orbital energy levels (eigenvalues) and associated orbital coefficients (eigenvectors).\n",
    "These can be used to construct a molecular orbital (MO) diagram for the $\\pi$ system, or to examine the distribution of the electron denisty in the orbitals."
   ]
  },
  {
   "cell_type": "markdown",
   "metadata": {},
   "source": [
    "## c. Linear conjugated polyenes"
   ]
  },
  {
   "cell_type": "markdown",
   "metadata": {},
   "source": [
    "### i. H&uuml;ckel calculation for ethene\n",
    "\n",
    "The H&uuml;ckel result for the ethene molecule (C<sub>2</sub>H<sub>4</sub>) was covered in the CHEM20212 lectures.\n",
    "The ethene $\\pi$ system consists of two $p_{z}$ orbitals:\n",
    "\n",
    "<img src=\"Part1a/Exercise2-Image1.png\" width=\"100px\">\n",
    "\n",
    "The Hamiltonian for the system is:\n",
    "\n",
    "$ \\hat{H} = \\begin{bmatrix} \\alpha & \\beta \\\\ \\beta & \\alpha \\end{bmatrix} $\n",
    "\n",
    "Diagonalisation produces one bonding and one antibonding orbital with the following energies and coefficients:\n",
    "\n",
    "$ E_{1} = \\alpha + \\beta $ ; $ | \\Psi_{1} \\rangle = \\frac{1}{\\sqrt{2}} \\begin{bmatrix} 1 \\\\ 1 \\end{bmatrix} $\n",
    " \n",
    "$ E_{2} = \\alpha - \\beta $ ; $ | \\Psi_{2} \\rangle = \\frac{1}{\\sqrt{2}} \\begin{bmatrix} 1 \\\\ -1 \\end{bmatrix} $\n",
    "\n",
    "We will now set up and perform H&uuml;ckel calculations using Python and NumPy to reproduce this result ourselves.\n",
    "Selecting $\\alpha = 0$ and $\\beta = -1$, we set up our Hamiltonian in a 2 &times; 2 NumPy matrix:"
   ]
  },
  {
   "cell_type": "code",
   "execution_count": null,
   "metadata": {
    "scrolled": false
   },
   "outputs": [],
   "source": [
    "a = 0.0\n",
    "b = -1.0\n",
    "\n",
    "matrix = [\n",
    "    [a, b],\n",
    "    [b, a]\n",
    "    ]\n",
    "\n",
    "matrix = np.array(matrix)\n",
    "\n",
    "print(\"Huckel Hamiltonian\")\n",
    "print(\"------------------\")\n",
    "\n",
    "print(matrix)"
   ]
  },
  {
   "cell_type": "markdown",
   "metadata": {},
   "source": [
    "Once we have constructed the Hamiltonian, we can diagonalise it using one of the linear algebra routines in NumPy:"
   ]
  },
  {
   "cell_type": "code",
   "execution_count": null,
   "metadata": {
    "scrolled": false
   },
   "outputs": [],
   "source": [
    "evals, evecs = np.linalg.eig(matrix)"
   ]
  },
  {
   "cell_type": "markdown",
   "metadata": {},
   "source": [
    "`np.linalg.eig()` returns the eigenvalues and eigenvectors of the $N$ &times; $N$ matrix supplied as an argument and returns a tuple of values which we unpack into two variables.\n",
    "`evals` is a 1D NumPy vector of $N$ orbital energies, and `evecs` is a 2D NumPy matrix where the $i$th column gives the eigenvector (orbital coefficients) corresponding to the $i$th eigenvalue (energy).\n",
    "\n",
    "The eigenvalues are not guarenteed to be sorted, i.e. `evals[0]` does not necessarily correspond to the lowest-energy orbital, *etc.*\n",
    "It is therefore useful to write a small \"helper\" function to order the data and make it easier to analyse.\n",
    "\n",
    "The function below takes the eigenvalues and eigenvectors obtained from the diagonalisation, converts the energies and coefficient vectors into a list of tuples, orders them in ascending order of energy, and returns the result as a new list.\n",
    "Run the cell to evaluate the function so you can use it."
   ]
  },
  {
   "cell_type": "code",
   "execution_count": null,
   "metadata": {
    "scrolled": false
   },
   "outputs": [],
   "source": [
    "def SortResult(evals, evecs):\n",
    "    # List to store \"converted\" data.\n",
    "    \n",
    "    data = []\n",
    "    \n",
    "    # Loop over i = 0 -> len(evals) = number of eigenvalues/eigenvectors.\n",
    "    \n",
    "    for i in range(0, len(evals)):\n",
    "        # Extract energy from evals.\n",
    "        \n",
    "        energy = evals[i]\n",
    "        \n",
    "        # Extract coefficients from evecs as a list.\n",
    "        # (The : in evecs[:, i] means \"everything\", so this \"slice\" of the array corresponds to the ith column.)\n",
    "        \n",
    "        coefficients = list(evecs[:, i])\n",
    "        \n",
    "        # Put the energy and coefficients into a Python tuple and append to the data list.\n",
    "        \n",
    "        data_item = (energy, coefficients)\n",
    "        \n",
    "        data.append(data_item)\n",
    "    \n",
    "    # Sort the data using the `sort()` method of the list.\n",
    "    # By default, `sort()` will use the first element of the tuples, which are the orbital energies.\n",
    "    \n",
    "    data.sort()\n",
    "    \n",
    "    # Return the sorted list.\n",
    "    \n",
    "    return data"
   ]
  },
  {
   "cell_type": "markdown",
   "metadata": {},
   "source": [
    "This function and the returned result can be used as follows:"
   ]
  },
  {
   "cell_type": "code",
   "execution_count": null,
   "metadata": {
    "scrolled": false
   },
   "outputs": [],
   "source": [
    "sorted_orbitals = SortResult(evals, evecs)\n",
    "\n",
    "for i in range(0, len(sorted_orbitals)):\n",
    "    energy, coefficients = sorted_orbitals[i]\n",
    "    \n",
    "    print(\"Orbital {0}\".format(i))\n",
    "    print(\"-------\")\n",
    "    print(\"Energy:\", energy)\n",
    "    print(\"Coefficients:\", coefficients)\n",
    "    print(\"\")\n"
   ]
  },
  {
   "cell_type": "markdown",
   "metadata": {},
   "source": [
    "Noting that we set $\\alpha = 0$ and $\\beta = -1$, and that $\\frac{1}{\\sqrt{2}} = 0.707$, we see that our calculation does indeed produce the results we expected.\n",
    "\n",
    "Finally, it is useful to write another function for visualising the orbital coefficients - again, run the cell below to evaluate the function so you can use it."
   ]
  },
  {
   "cell_type": "code",
   "execution_count": null,
   "metadata": {
    "scrolled": false
   },
   "outputs": [],
   "source": [
    "%matplotlib inline\n",
    "\n",
    "import math\n",
    "\n",
    "import matplotlib.pyplot as plt\n",
    "\n",
    "def PlotOrbitals(sorted_orbitals):\n",
    "    # Constants for alternating C positions as in a typical skeletal drawing.\n",
    "    \n",
    "    d_x = math.cos(19.5 / 180)\n",
    "    d_y = math.sin(19.5 / 180)\n",
    "    \n",
    "    # Loop over orbitals.\n",
    "    \n",
    "    for i in range(0, len(sorted_orbitals)):\n",
    "        # Unpack tuple to get orbital energy and list of coefficients.\n",
    "        \n",
    "        energy, coefficients = sorted_orbitals[i]\n",
    "        \n",
    "        # Generate a list of x and y coordinates for atoms (\"vertices\") on C skeleton.\n",
    "        \n",
    "        point_x_coords = []\n",
    "        point_y_coords = []\n",
    "        \n",
    "        for j in range(0, len(coefficients)):\n",
    "            p_x = 0.5 + j * d_x\n",
    "            \n",
    "            p_y = 0.5\n",
    "            \n",
    "            # C0, C2, ... will have y = 0.5 - d_y.\n",
    "            # C1, C3, ... will have y = 0.5 + d_y.\n",
    "            \n",
    "            if j % 2 == 0:\n",
    "                p_y = p_y - d_y\n",
    "            else:\n",
    "                p_y = p_y + d_y\n",
    "            \n",
    "            point_x_coords.append(p_x)\n",
    "            point_y_coords.append(p_y)\n",
    "        \n",
    "        # x and y limits for plotting figure.\n",
    "        \n",
    "        x_max = 1 + d_x * (len(coefficients) - 1)\n",
    "        y_max = 1\n",
    "        \n",
    "        # Create a new figure object in proportion to the x/y limits.\n",
    "        \n",
    "        plt.figure(\n",
    "            figsize = (5 * x_max / 2.54, 5 * y_max / 2.54)\n",
    "            )\n",
    "        \n",
    "        # Draw each vertex as a round marker.\n",
    "        # Colour the marker blue if the coeficient is >= 0, or red if it is < 0.\n",
    "        # Scale the size of the marker in proportion to the eigenvector coefficient.\n",
    "    \n",
    "        for j in range(0, len(coefficients)):\n",
    "            x = point_x_coords[j]\n",
    "            y = point_y_coords[j]\n",
    "\n",
    "            c = coefficients[j]\n",
    "\n",
    "            colour = 'b'\n",
    "\n",
    "            if c < 0:\n",
    "                colour = 'r'\n",
    "\n",
    "            size = 2000 * math.fabs(c)\n",
    "\n",
    "            plt.scatter([x], [y], s = size, color = colour)\n",
    "        \n",
    "        # Draw lines connecting each vertex to its next neighbour.\n",
    "        \n",
    "        plt.plot(point_x_coords, point_y_coords, color = 'k')\n",
    "    \n",
    "        # Adjust the axis limits to leave some space around the edges.\n",
    "\n",
    "        plt.xlim(0.0, x_max)\n",
    "        plt.ylim(0.0, y_max)\n",
    "\n",
    "        # Disable the axes (tick labels, etc.).\n",
    "\n",
    "        plt.axis('off')\n",
    "        \n",
    "        # Add a title with the orbital number and energy.\n",
    "        \n",
    "        title = \"MO {0}: E = {1:.2f}\".format(i + 1, energy)\n",
    "        \n",
    "        plt.suptitle(title)\n",
    "\n",
    "        # Show the figure.\n",
    "\n",
    "        plt.show()\n",
    "\n",
    "        # Clear resources.\n",
    "\n",
    "        plt.close()\n"
   ]
  },
  {
   "cell_type": "markdown",
   "metadata": {},
   "source": [
    "The function uses the `Matplotlib` package to generate a sequence of graphics.\n",
    "[Matplotlib](https://matplotlib.org) is another Python extension that provides plotting functionality, and, as with NumPy, is an integral part of the scientific computing \"stack\" for Python.\n",
    "\n",
    "Exercise 3 provides a more thorough introduction to plotting Matplotlib - for now, we will simply use this function and focus on the Chemistry.\n",
    "\n",
    "This function can be called as follows:"
   ]
  },
  {
   "cell_type": "code",
   "execution_count": null,
   "metadata": {
    "scrolled": false
   },
   "outputs": [],
   "source": [
    "PlotOrbitals(sorted_orbitals)"
   ]
  },
  {
   "cell_type": "markdown",
   "metadata": {},
   "source": [
    "The `PlotOrbitals()` helper function draws a series of plots, one for each orbital, showing the size and relative sign of the orbital coefficients.\n",
    "\n",
    "As expected, MO1 has an energy of $\\alpha + \\beta$ (remembering that $\\alpha = 0$ and $\\beta = -1$) and consists of an in-phase combination of the two $p_{z}$ orbitals with equal coefficients, whereas MO2 has an energy of $\\alpha - \\beta$ and corresponds to the out-of-phase combination of the two orbitals."
   ]
  },
  {
   "cell_type": "markdown",
   "metadata": {},
   "source": [
    "### ii. Exercise 1: allene\n",
    "\n",
    "In this exercise, you will use H&uuml;ckel theory to analyse the allyl radical and corresponding cation and anion (C<sub>3</sub>H<sub>5</sub>).\n",
    "The allyl system is the three-carbon analogue of ethene:\n",
    "\n",
    "<img src=\"Part1a/Exercise2-Image2.png\" width=\"175px\">\n",
    "\n",
    "In the cell below, write Python code to do the following:\n",
    "\n",
    "1. Set up the H&uuml;ckel Hamiltonian for the allyl molecule using $\\alpha = 0$ and $\\beta = -1$.\n",
    "\n",
    "2. Diagonalise $\\hat{H}$ to obtain the orbital energies and coefficients.\n",
    "\n",
    "3. Sort the results using the `SortResult()` function.\n",
    "\n",
    "4. Plot the orbitals using `PlotOrbitals()`."
   ]
  },
  {
   "cell_type": "code",
   "execution_count": null,
   "metadata": {
    "scrolled": false
   },
   "outputs": [],
   "source": [
    "# Enter your code for the allyl radical here.\n"
   ]
  },
  {
   "cell_type": "markdown",
   "metadata": {},
   "source": [
    "Using your results:\n",
    "\n",
    "1. Classify the three orbitals as bonding, non-bonding or antibonding.\n",
    "   <br>\n",
    "\n",
    "2. Identify which C atom(s) in the allyl cation, C<sub>3</sub>H<sub>5</sub><sup>+</sup>, are most likely to be attacked by a nucleophile."
   ]
  },
  {
   "cell_type": "markdown",
   "metadata": {},
   "source": [
    "### iii. Exercise 2: Butadiene\n",
    "\n",
    "Perfor a similar H&uuml;ckel analysis on butadiene (C<sub>4</sub>H<sub>6</sub>).\n",
    "Following on from Exercise 2 above:\n",
    "\n",
    "1. How does the pattern of bonding, non-bonding and antibonding orbitals differ from the allyl system?\n",
    "   <br>\n",
    "\n",
    "2. How does the distribution of the $\\pi$ electron density in butadiene differ from the allyl anion C<sub>3</sub>H<sub>5</sub><sup>-</sup>?"
   ]
  },
  {
   "cell_type": "code",
   "execution_count": null,
   "metadata": {
    "scrolled": false
   },
   "outputs": [],
   "source": [
    "# Enter your code for modelling butadiene here.\n"
   ]
  },
  {
   "cell_type": "markdown",
   "metadata": {},
   "source": [
    "## d. Cyclic conjugated polyenes\n",
    "\n",
    "We can perform similar calculations for conjugated polyenes by simply modifying the H&uuml;ckel matrix.\n",
    "\n",
    "For example, this code sets up a Huckel matrix for benzene, which was again covered in CHEM20212, and diagnoalises it to obtain the energies and orbital coefficients (eigenvalues/eigenvectors):"
   ]
  },
  {
   "cell_type": "code",
   "execution_count": null,
   "metadata": {
    "scrolled": false
   },
   "outputs": [],
   "source": [
    "a = 0.0\n",
    "b = -1.0\n",
    "\n",
    "#   C1 C2 C3 C4 C5 C6\n",
    "\n",
    "matrix = [\n",
    "    [a, b, 0, 0, 0, b], # C1\n",
    "    [b, a, b, 0, 0, 0], # C2\n",
    "    [0, b, a, b, 0, 0], # C3\n",
    "    [0, 0, b, a, b, 0], # C4\n",
    "    [0, 0, 0, b, a, b], # C5\n",
    "    [b, 0, 0, 0, b, a], # C6\n",
    "    ]\n",
    "\n",
    "matrix = np.array(matrix)\n",
    "\n",
    "evals, evecs = np.linalg.eig(matrix)"
   ]
  },
  {
   "cell_type": "markdown",
   "metadata": {},
   "source": [
    "The routine we used to sort the eigenvectors and eigenvalues will also work for the cyclic systems:"
   ]
  },
  {
   "cell_type": "code",
   "execution_count": null,
   "metadata": {
    "scrolled": false
   },
   "outputs": [],
   "source": [
    "sorted_orbitals = SortResult(evals, evecs)"
   ]
  },
  {
   "cell_type": "markdown",
   "metadata": {},
   "source": [
    "However, we will need a new function for plotting the orbital coefficients:"
   ]
  },
  {
   "cell_type": "code",
   "execution_count": null,
   "metadata": {
    "scrolled": false
   },
   "outputs": [],
   "source": [
    "%matplotlib inline\n",
    "\n",
    "import math\n",
    "\n",
    "import matplotlib.pyplot as plt\n",
    "\n",
    "def PlotOrbitals_Cyclic(sorted_orbitals):\n",
    "    for i in range(0, len(sorted_orbitals)):\n",
    "        energy, coefficients = sorted_orbitals[i]\n",
    "        \n",
    "        # Represent molecule as a regular polygon with # vertices = # coefficients.\n",
    "\n",
    "        num_vertices = len(coefficients)\n",
    "\n",
    "        # Generate (x, y) coordinates of atoms (vertices).\n",
    "\n",
    "        point_x_coords = []\n",
    "        point_y_coords = []\n",
    "\n",
    "        # Place the polygon inside a circle.\n",
    "        # The vertices are regularly spaced around the circumference by an arc of (360 / num_vertices) degrees.\n",
    "\n",
    "        arc_length = 360.0 / num_vertices\n",
    "\n",
    "        # Take the first point at \\theta = 0 degrees.\n",
    "\n",
    "        theta_0 = 0.0\n",
    "\n",
    "        # Generate vertex coordinates by sweeping clockwise around the edge of the circle.\n",
    "\n",
    "        for j in range(0, num_vertices):\n",
    "            theta = theta_0 + j * arc_length\n",
    "\n",
    "            # Degrees to radians.\n",
    "\n",
    "            theta_rad = (theta / 360.0) * (2 * math.pi)\n",
    "\n",
    "            # If we take r = 1, then x = sin(\\theta) and y = cos(\\theta).\n",
    "\n",
    "            x = math.sin(theta_rad)\n",
    "            y = math.cos(theta_rad)\n",
    "\n",
    "            # Add points to the list.\n",
    "\n",
    "            point_x_coords.append(x)\n",
    "            point_y_coords.append(y)\n",
    "\n",
    "        # Create a square Matplotlib figure.\n",
    "\n",
    "        plt.figure(\n",
    "            figsize = (8.0 / 2.54, 8.0 / 2.54)\n",
    "            )\n",
    "\n",
    "        # Draw each vertex as a round marker.\n",
    "        # Colour the marker blue if the coeficient is >= 0, or red if it is < 0.\n",
    "        # Scale the size of the marker in proportion to the eigenvector coefficient.\n",
    "\n",
    "        # Also draw lines connecting each vertex to its next neighbour.\n",
    "        # When we reach the last vertex, connect it to the first one to close the polygon.\n",
    "\n",
    "        for j in range(0, num_vertices):\n",
    "            x = point_x_coords[j]\n",
    "            y = point_y_coords[j]\n",
    "\n",
    "            c = coefficients[j]\n",
    "\n",
    "            colour = 'b'\n",
    "\n",
    "            if c < 0:\n",
    "                colour = 'r'\n",
    "\n",
    "            size = 2000 * math.fabs(c)\n",
    "\n",
    "            plt.scatter([x], [y], s = size, color = colour)\n",
    "\n",
    "            neighbour_index = (j + 1) % num_vertices\n",
    "\n",
    "            x_2 = point_x_coords[neighbour_index]\n",
    "            y_2 = point_y_coords[neighbour_index]\n",
    "\n",
    "            plt.plot([x, x_2], [y, y_2], color = 'k')\n",
    "\n",
    "        # Adjust the axis limits to leave some space around the edges.\n",
    "\n",
    "        plt.xlim(-1.4, 1.4)\n",
    "        plt.ylim(-1.4, 1.4)\n",
    "\n",
    "        # Disable the axes (tick labels, etc.).\n",
    "\n",
    "        plt.axis('off')\n",
    "\n",
    "        # Add a title with the orbital number and energy.\n",
    "        \n",
    "        title = \"MO {0}: E = {1:.2f}\".format(i + 1, energy)\n",
    "        \n",
    "        plt.suptitle(title)\n",
    "\n",
    "        # Show the figure.\n",
    "\n",
    "        plt.show()\n",
    "\n",
    "        # Clear resources.\n",
    "\n",
    "        plt.close()\n"
   ]
  },
  {
   "cell_type": "markdown",
   "metadata": {},
   "source": [
    "This code can be used as before:"
   ]
  },
  {
   "cell_type": "code",
   "execution_count": null,
   "metadata": {
    "scrolled": false
   },
   "outputs": [],
   "source": [
    "PlotOrbitals_Cyclic(sorted_orbitals)"
   ]
  },
  {
   "cell_type": "markdown",
   "metadata": {},
   "source": [
    "As in the CHEM20212 lectures, we obtain the following orbitals:\n",
    "\n",
    "* A low-energy bonding orbital with all six $p_{z}$ orbitals in phase and $ E = \\alpha + 2 \\beta$.\n",
    "* A degenerate pair of bonding orbitals with one node and $E = \\alpha + \\beta$.\n",
    "* A degenerate pair of antibonding orbitals with two nodes and $E = \\alpha - \\beta$.\n",
    "* A high-energy antibonding orbital with each $p_{z}$ orbital out of phase with its nearest neighbours and $E = \\alpha - 2 \\beta$."
   ]
  },
  {
   "cell_type": "markdown",
   "metadata": {},
   "source": [
    "### i. Exercise 1\n",
    "\n",
    "In the three boxes below, perform a Huckel analysis on C<sub>3</sub>H<sub>3</sub>, C<sub>4</sub>H<sub>4</sub> (cyclobutadiene) and C<sub>5</sub>H<sub>5</sub>. Use Huckel coefficients of $\\alpha = 0$ and $\\beta = -1$ as for benzene example.\n",
    "\n",
    "<img src=\"./Part1a/Exercise2-Image3.png\" width=\"405px\">\n",
    "\n",
    "For each compound, you should: (1) calculate the orbital energies; and (2) inspect the orbital coefficients."
   ]
  },
  {
   "cell_type": "code",
   "execution_count": null,
   "metadata": {
    "scrolled": false
   },
   "outputs": [],
   "source": [
    "# Type your code for cyclopropenyl.\n"
   ]
  },
  {
   "cell_type": "code",
   "execution_count": null,
   "metadata": {
    "scrolled": false
   },
   "outputs": [],
   "source": [
    "# Type your code for cyclobutadiene.\n"
   ]
  },
  {
   "cell_type": "code",
   "execution_count": null,
   "metadata": {
    "scrolled": false
   },
   "outputs": [],
   "source": [
    "# Type your code for cyclopentenyl.\n"
   ]
  },
  {
   "cell_type": "markdown",
   "metadata": {},
   "source": [
    "Use your results to answer the following questions:\n",
    "\n",
    "1. Draw (on a piece of paper) the pattern of $\\pi$-orbital energies in C<sub>3</sub>H<sub>3</sub>, C<sub>4</sub>H<sub>4</sub>, C<sub>5</sub>5<sub>5</sub> and C<sub>6</sub>H<sub>6</sub>.\n",
    "   <br>\n",
    "\n",
    "2. Use your energy-level diagrams to work out the optimum (lowest-energy) number of $\\pi$ electrons in each molecule (i.e. would they be most stable as charged or neutral species?).\n",
    "   <br>\n",
    "\n",
    "3. Use your diagrams to rationalise the following:\n",
    "\n",
    "   * The <i>p</i>K<sub>a</sub> of cyclopenadiene (C<sub>5</sub>H<sub>6</sub>) is much lower than benzene.\n",
    "   * C<sub>4</sub>H<sub>4</sub> is much more easily reduced to the dianion C<sub>4</sub>H<sub>4</sub><sup>2-</sup> than benzene."
   ]
  },
  {
   "cell_type": "markdown",
   "metadata": {},
   "source": [
    "### ii. Exercise 2\n",
    "\n",
    "H&uuml;ckel theory can be easily extended to systems with heteroatoms by adjusting the values of $\\alpha$ and $\\beta$.\n",
    "Consider the pyridine molecule C<sub>5</sub>H<sub>5</sub>N:\n",
    "\n",
    "<img src=\"Part1a/Exercise2-Image4.png\" width=\"110px\">\n",
    "\n",
    "The N heteroatom is more electronegative than the C atoms, so an electron in the N $p$ orbital will be stabilised in energy.\n",
    "This can be modelled by setting $\\alpha_{\\mathrm{N}} = -0.5$.\n",
    "On the other hand, due to the mismatch in orbital energies and poorer spatial overlap, the C-N $\\pi$ bonding will be weaker, which can be accounted for by changing $\\beta_{\\mathrm{C-N}} = -0.8$.\n",
    "\n",
    "In the cell below, write some Python code to input the modified H&uuml;ckel Hamiltonian for pyridine and calculate and print the orbital energies and coefficients."
   ]
  },
  {
   "cell_type": "code",
   "execution_count": null,
   "metadata": {
    "scrolled": false
   },
   "outputs": [],
   "source": [
    "# Type your code for pyridine here.\n"
   ]
  },
  {
   "cell_type": "markdown",
   "metadata": {},
   "source": [
    "Use your results to answer the following questions:\n",
    "\n",
    "1. Are the orbital degeneracies in the benzene $\\pi$ system perserved? If not, why not?\n",
    "   <br>\n",
    "\n",
    "2. Are the six $\\pi$ electrons in pyridine more stable than the $\\pi$ electrons in benzene?\n",
    "   <br>"
   ]
  },
  {
   "cell_type": "markdown",
   "metadata": {},
   "source": [
    "### iii. Exercise 3\n",
    "\n",
    "(Only for those who aren't fed up with H&uuml;ckel theory yet - if you are, feel free to move on to Exercise 3.)\n",
    "\n",
    "Our model for pyridine can be further extended to systems with two heteroatoms: pyrazine, pyrimidine and pyridazine.\n",
    "\n",
    "<img src=\"Part1a/Exercise2-Image5.png\" width=\"360px\">\n",
    "\n",
    "To first approximation, the only modification we need to make is to set $\\beta_{\\mathrm{N-N}} = -1$ for pyridazine.\n",
    "\n",
    "For each of the three molecules above, use H&uuml;ckel theory to determine the orbital energies and coefficients."
   ]
  },
  {
   "cell_type": "code",
   "execution_count": null,
   "metadata": {
    "scrolled": false
   },
   "outputs": [],
   "source": [
    "# Type your code for pyrazine here.\n"
   ]
  },
  {
   "cell_type": "code",
   "execution_count": null,
   "metadata": {
    "scrolled": false
   },
   "outputs": [],
   "source": [
    "# Type your code for pyrimidine here.\n"
   ]
  },
  {
   "cell_type": "code",
   "execution_count": null,
   "metadata": {
    "scrolled": false
   },
   "outputs": [],
   "source": [
    "# Type your code for pyridazine here.\n"
   ]
  },
  {
   "cell_type": "markdown",
   "metadata": {},
   "source": [
    "Using the orbital energies, identify which of the three isomers has the most stable $\\pi$ system in the neutral molecules with six electrons."
   ]
  }
 ],
 "metadata": {
  "kernelspec": {
   "display_name": "Python 3",
   "language": "python",
   "name": "python3"
  },
  "language_info": {
   "codemirror_mode": {
    "name": "ipython",
    "version": 3
   },
   "file_extension": ".py",
   "mimetype": "text/x-python",
   "name": "python",
   "nbconvert_exporter": "python",
   "pygments_lexer": "ipython3",
   "version": "3.7.0"
  }
 },
 "nbformat": 4,
 "nbformat_minor": 2
}
